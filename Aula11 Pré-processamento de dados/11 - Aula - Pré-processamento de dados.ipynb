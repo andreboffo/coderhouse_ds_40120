{
 "cells": [
  {
   "cell_type": "code",
   "execution_count": null,
   "metadata": {
    "executionInfo": {
     "elapsed": 1162,
     "status": "ok",
     "timestamp": 1661814385878,
     "user": {
      "displayName": "Wesley Furriel",
      "userId": "03516357509047911115"
     },
     "user_tz": 180
    },
    "id": "EaXONcdLVeob"
   },
   "outputs": [],
   "source": [
    "import pandas as pd\n",
    "import missingno as msno"
   ]
  },
  {
   "cell_type": "code",
   "execution_count": null,
   "metadata": {
    "colab": {
     "base_uri": "https://localhost:8080/",
     "height": 818
    },
    "executionInfo": {
     "elapsed": 489,
     "status": "ok",
     "timestamp": 1661814389671,
     "user": {
      "displayName": "Wesley Furriel",
      "userId": "03516357509047911115"
     },
     "user_tz": 180
    },
    "id": "SkhzQzH0W70K",
    "outputId": "e94dee2c-9d28-40e6-a2e1-982d0d256ebc"
   },
   "outputs": [],
   "source": [
    "missingcollision = pd.read_csv(\"https://raw.githubusercontent.com/ResidentMario/missingno-data/master/nyc_collision_factors.csv\")  \n",
    "missingcollision"
   ]
  },
  {
   "cell_type": "code",
   "execution_count": null,
   "metadata": {
    "colab": {
     "base_uri": "https://localhost:8080/"
    },
    "executionInfo": {
     "elapsed": 327,
     "status": "ok",
     "timestamp": 1661814413681,
     "user": {
      "displayName": "Wesley Furriel",
      "userId": "03516357509047911115"
     },
     "user_tz": 180
    },
    "id": "HN7_V_cyYyi_",
    "outputId": "29f7570e-20b7-4c12-8ae0-c4120ef351d6"
   },
   "outputs": [],
   "source": [
    "missingcollision.info()"
   ]
  },
  {
   "cell_type": "markdown",
   "metadata": {
    "id": "FIu2bc45Xchv"
   },
   "source": [
    "# Missing no base completa"
   ]
  },
  {
   "cell_type": "code",
   "execution_count": null,
   "metadata": {
    "colab": {
     "base_uri": "https://localhost:8080/",
     "height": 693
    },
    "executionInfo": {
     "elapsed": 1480,
     "status": "ok",
     "timestamp": 1661814446533,
     "user": {
      "displayName": "Wesley Furriel",
      "userId": "03516357509047911115"
     },
     "user_tz": 180
    },
    "id": "a8eYpMSYVwU4",
    "outputId": "1e104b4a-1985-430a-b7cd-349fdee5a184"
   },
   "outputs": [],
   "source": [
    "msno.matrix(missingcollision)"
   ]
  },
  {
   "cell_type": "markdown",
   "metadata": {
    "id": "hOJ-9GccXkgY"
   },
   "source": [
    "# Missing no amostras"
   ]
  },
  {
   "cell_type": "code",
   "execution_count": null,
   "metadata": {
    "colab": {
     "base_uri": "https://localhost:8080/",
     "height": 698
    },
    "executionInfo": {
     "elapsed": 1547,
     "status": "ok",
     "timestamp": 1661814597867,
     "user": {
      "displayName": "Wesley Furriel",
      "userId": "03516357509047911115"
     },
     "user_tz": 180
    },
    "id": "5AEOsBd1W7Iw",
    "outputId": "85e29835-1422-461b-c38b-761f8a0993dd"
   },
   "outputs": [],
   "source": [
    "msno.matrix(missingcollision.sample(250))"
   ]
  },
  {
   "cell_type": "code",
   "execution_count": null,
   "metadata": {
    "colab": {
     "base_uri": "https://localhost:8080/",
     "height": 698
    },
    "executionInfo": {
     "elapsed": 2541,
     "status": "ok",
     "timestamp": 1661814616386,
     "user": {
      "displayName": "Wesley Furriel",
      "userId": "03516357509047911115"
     },
     "user_tz": 180
    },
    "id": "m9PJILbM3pwR",
    "outputId": "08fecf09-9d61-46c5-8112-0374b43885d4"
   },
   "outputs": [],
   "source": [
    "msno.matrix(missingcollision.sample(250))"
   ]
  },
  {
   "cell_type": "markdown",
   "metadata": {
    "id": "JYYEVaRtYUN4"
   },
   "source": []
  },
  {
   "cell_type": "code",
   "execution_count": null,
   "metadata": {
    "colab": {
     "base_uri": "https://localhost:8080/",
     "height": 649
    },
    "executionInfo": {
     "elapsed": 1465,
     "status": "ok",
     "timestamp": 1661814637481,
     "user": {
      "displayName": "Wesley Furriel",
      "userId": "03516357509047911115"
     },
     "user_tz": 180
    },
    "id": "XALPkys9YUwv",
    "outputId": "212d2457-9c8b-4eed-b913-d10e30338ba9"
   },
   "outputs": [],
   "source": [
    "msno.dendrogram(missingcollision)"
   ]
  },
  {
   "cell_type": "code",
   "execution_count": null,
   "metadata": {
    "colab": {
     "base_uri": "https://localhost:8080/",
     "height": 868
    },
    "executionInfo": {
     "elapsed": 1460,
     "status": "ok",
     "timestamp": 1661814729648,
     "user": {
      "displayName": "Wesley Furriel",
      "userId": "03516357509047911115"
     },
     "user_tz": 180
    },
    "id": "cTsmB9DraDnJ",
    "outputId": "f8eccf24-ec85-4b15-81bb-f4ca3ea93e42"
   },
   "outputs": [],
   "source": [
    "msno.heatmap(missingcollision)\n"
   ]
  },
  {
   "cell_type": "code",
   "execution_count": null,
   "metadata": {},
   "outputs": [],
   "source": []
  }
 ],
 "metadata": {
  "colab": {
   "authorship_tag": "ABX9TyOIOYM2rE7/aTwQDE5oaB7/",
   "name": "11 - Aula - Pré-processamento de dados.ipynb",
   "provenance": []
  },
  "kernelspec": {
   "display_name": "Python 3 (ipykernel)",
   "language": "python",
   "name": "python3"
  },
  "language_info": {
   "codemirror_mode": {
    "name": "ipython",
    "version": 3
   },
   "file_extension": ".py",
   "mimetype": "text/x-python",
   "name": "python",
   "nbconvert_exporter": "python",
   "pygments_lexer": "ipython3",
   "version": "3.9.12"
  }
 },
 "nbformat": 4,
 "nbformat_minor": 4
}
