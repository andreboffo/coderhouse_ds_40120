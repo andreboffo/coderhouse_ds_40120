{
 "cells": [
  {
   "cell_type": "markdown",
   "metadata": {
    "id": "KHaW9cU7Zu8V"
   },
   "source": [
    "Usando **R** no google Colab"
   ]
  },
  {
   "cell_type": "code",
   "execution_count": null,
   "metadata": {
    "executionInfo": {
     "elapsed": 2555,
     "status": "ok",
     "timestamp": 1654966923054,
     "user": {
      "displayName": "Wesley Furriel",
      "userId": "03516357509047911115"
     },
     "user_tz": 180
    },
    "id": "cjrQA1OWKzIq"
   },
   "outputs": [],
   "source": [
    "%load_ext rpy2.ipython"
   ]
  },
  {
   "cell_type": "markdown",
   "metadata": {
    "id": "ivDl5tJjbfo0"
   },
   "source": [
    "# Instalando e chamando pacotes"
   ]
  },
  {
   "cell_type": "code",
   "execution_count": null,
   "metadata": {
    "executionInfo": {
     "elapsed": 1828,
     "status": "ok",
     "timestamp": 1654966928700,
     "user": {
      "displayName": "Wesley Furriel",
      "userId": "03516357509047911115"
     },
     "user_tz": 180
    },
    "id": "-uZnJsf5beQM"
   },
   "outputs": [],
   "source": [
    "%%R\n",
    "install.packages(\"ggplot2\")\n",
    "library(\"ggplot2\")"
   ]
  },
  {
   "cell_type": "code",
   "execution_count": null,
   "metadata": {
    "id": "Y6kFyEWKe1Qv"
   },
   "outputs": [],
   "source": [
    "%%R\n",
    "help(package = \"ggplot2\")"
   ]
  },
  {
   "cell_type": "code",
   "execution_count": null,
   "metadata": {
    "id": "bp9vJMATd1x-"
   },
   "outputs": [],
   "source": [
    "%%R\n",
    "str(allPackage <- installed.packages())\n",
    "allPackage [, c(1,3:5)]"
   ]
  },
  {
   "cell_type": "markdown",
   "metadata": {
    "id": "l_Gn-Q6nZ1xd"
   },
   "source": [
    "# Primeiros passos"
   ]
  },
  {
   "cell_type": "code",
   "execution_count": null,
   "metadata": {
    "colab": {
     "base_uri": "https://localhost:8080/"
    },
    "executionInfo": {
     "elapsed": 433,
     "status": "ok",
     "timestamp": 1654962046048,
     "user": {
      "displayName": "Wesley Furriel",
      "userId": "03516357509047911115"
     },
     "user_tz": 180
    },
    "id": "VNL9dsBiK1R7",
    "outputId": "c9646aee-bb7c-45ce-f564-f2c6f75ac78c"
   },
   "outputs": [],
   "source": [
    "%%R\n",
    "altura <- 1.88\n",
    "peso   <- 80\n",
    "IMC    <- peso/(altura^2)\n",
    "IMC"
   ]
  },
  {
   "cell_type": "code",
   "execution_count": null,
   "metadata": {
    "colab": {
     "base_uri": "https://localhost:8080/"
    },
    "executionInfo": {
     "elapsed": 13,
     "status": "ok",
     "timestamp": 1654962047991,
     "user": {
      "displayName": "Wesley Furriel",
      "userId": "03516357509047911115"
     },
     "user_tz": 180
    },
    "id": "w7P0fP4OK1Oq",
    "outputId": "5df0500c-1847-433d-830f-83617ab1d45b"
   },
   "outputs": [],
   "source": [
    "%%R\n",
    "ls()"
   ]
  },
  {
   "cell_type": "code",
   "execution_count": null,
   "metadata": {
    "colab": {
     "base_uri": "https://localhost:8080/"
    },
    "executionInfo": {
     "elapsed": 4,
     "status": "ok",
     "timestamp": 1654962049945,
     "user": {
      "displayName": "Wesley Furriel",
      "userId": "03516357509047911115"
     },
     "user_tz": 180
    },
    "id": "FrKhSrk7K1K5",
    "outputId": "4971e8fe-5507-46fa-a4c4-9a457eeb8b81"
   },
   "outputs": [],
   "source": [
    "%%R\n",
    "rm(list = ls())\n",
    "ls()"
   ]
  },
  {
   "cell_type": "markdown",
   "metadata": {
    "id": "KEqpcmBjbU-C"
   },
   "source": [
    "# Criando vetores"
   ]
  },
  {
   "cell_type": "code",
   "execution_count": null,
   "metadata": {
    "colab": {
     "base_uri": "https://localhost:8080/"
    },
    "executionInfo": {
     "elapsed": 3,
     "status": "ok",
     "timestamp": 1654963122974,
     "user": {
      "displayName": "Wesley Furriel",
      "userId": "03516357509047911115"
     },
     "user_tz": 180
    },
    "id": "CMQ1-CHrbOLS",
    "outputId": "471beb3e-e09c-45d6-adfc-6976cd5f971d"
   },
   "outputs": [],
   "source": [
    "%%R\n",
    "x <- c(2,5,7,5,7,2)\n",
    "x"
   ]
  },
  {
   "cell_type": "code",
   "execution_count": null,
   "metadata": {
    "colab": {
     "base_uri": "https://localhost:8080/"
    },
    "executionInfo": {
     "elapsed": 4,
     "status": "ok",
     "timestamp": 1654963175754,
     "user": {
      "displayName": "Wesley Furriel",
      "userId": "03516357509047911115"
     },
     "user_tz": 180
    },
    "id": "BBmPWIy1bOHG",
    "outputId": "0ca25707-9016-4617-9ac3-520825f1b3b9"
   },
   "outputs": [],
   "source": [
    "%%R\n",
    "y <- c(1,5,2,1,7,2)\n",
    "xy <- x+y\n",
    "xy"
   ]
  },
  {
   "cell_type": "code",
   "execution_count": null,
   "metadata": {
    "colab": {
     "base_uri": "https://localhost:8080/"
    },
    "executionInfo": {
     "elapsed": 6,
     "status": "ok",
     "timestamp": 1654963892892,
     "user": {
      "displayName": "Wesley Furriel",
      "userId": "03516357509047911115"
     },
     "user_tz": 180
    },
    "id": "1q-6gHX1iMOb",
    "outputId": "04403e96-2fa8-43f8-dd94-922efb3c8fa5"
   },
   "outputs": [],
   "source": [
    "%%R\n",
    "xy * 2"
   ]
  },
  {
   "cell_type": "code",
   "execution_count": null,
   "metadata": {
    "colab": {
     "base_uri": "https://localhost:8080/"
    },
    "executionInfo": {
     "elapsed": 436,
     "status": "ok",
     "timestamp": 1654964189960,
     "user": {
      "displayName": "Wesley Furriel",
      "userId": "03516357509047911115"
     },
     "user_tz": 180
    },
    "id": "cNHd-U-Wi8Kq",
    "outputId": "b05d7051-3360-421c-809a-9bf43f16d31e"
   },
   "outputs": [],
   "source": [
    "%%R\n",
    "z <- c(\"Squall\",\"Strife\",\"Artorias\",\"Ed\")\n",
    "z"
   ]
  },
  {
   "cell_type": "code",
   "execution_count": null,
   "metadata": {
    "colab": {
     "base_uri": "https://localhost:8080/"
    },
    "executionInfo": {
     "elapsed": 3,
     "status": "ok",
     "timestamp": 1654963238468,
     "user": {
      "displayName": "Wesley Furriel",
      "userId": "03516357509047911115"
     },
     "user_tz": 180
    },
    "id": "jHPZB4IrbN99",
    "outputId": "1ac0aa31-a6b5-4d52-e909-35b957ebd395"
   },
   "outputs": [],
   "source": [
    "%%R\n",
    "typeof(x)"
   ]
  },
  {
   "cell_type": "code",
   "execution_count": null,
   "metadata": {
    "colab": {
     "base_uri": "https://localhost:8080/"
    },
    "executionInfo": {
     "elapsed": 4,
     "status": "ok",
     "timestamp": 1654964202661,
     "user": {
      "displayName": "Wesley Furriel",
      "userId": "03516357509047911115"
     },
     "user_tz": 180
    },
    "id": "tqG0UjumjZsO",
    "outputId": "a803cc84-6338-4cb0-ead1-36c7551c9203"
   },
   "outputs": [],
   "source": [
    "%%R\n",
    "typeof(z)"
   ]
  },
  {
   "cell_type": "code",
   "execution_count": null,
   "metadata": {
    "colab": {
     "base_uri": "https://localhost:8080/"
    },
    "executionInfo": {
     "elapsed": 443,
     "status": "ok",
     "timestamp": 1654963915540,
     "user": {
      "displayName": "Wesley Furriel",
      "userId": "03516357509047911115"
     },
     "user_tz": 180
    },
    "id": "YF7QznCif5HK",
    "outputId": "7f6c4328-f25e-4ad3-bd84-efbb7c7cb25b"
   },
   "outputs": [],
   "source": [
    "%%R\n",
    "seq(10 , 100, by=10)"
   ]
  },
  {
   "cell_type": "code",
   "execution_count": null,
   "metadata": {
    "colab": {
     "base_uri": "https://localhost:8080/"
    },
    "executionInfo": {
     "elapsed": 4,
     "status": "ok",
     "timestamp": 1654963937321,
     "user": {
      "displayName": "Wesley Furriel",
      "userId": "03516357509047911115"
     },
     "user_tz": 180
    },
    "id": "pm8Vgxq8f4_O",
    "outputId": "1faea7c2-708c-4231-b91e-ff22eeffe0ec"
   },
   "outputs": [],
   "source": [
    "%%R\n",
    "rep(c(10,20,30) , 3)"
   ]
  },
  {
   "cell_type": "code",
   "execution_count": null,
   "metadata": {
    "colab": {
     "base_uri": "https://localhost:8080/"
    },
    "executionInfo": {
     "elapsed": 6,
     "status": "ok",
     "timestamp": 1654964060416,
     "user": {
      "displayName": "Wesley Furriel",
      "userId": "03516357509047911115"
     },
     "user_tz": 180
    },
    "id": "Y0Zu5KYGia2q",
    "outputId": "84358a4f-0537-423e-f625-fa97cab8e978"
   },
   "outputs": [],
   "source": [
    "%%R\n",
    "set.seed(1354)\n",
    "runif(min = 1, max = 100, n = 10)"
   ]
  },
  {
   "cell_type": "code",
   "execution_count": null,
   "metadata": {
    "colab": {
     "base_uri": "https://localhost:8080/"
    },
    "executionInfo": {
     "elapsed": 4,
     "status": "ok",
     "timestamp": 1654964066483,
     "user": {
      "displayName": "Wesley Furriel",
      "userId": "03516357509047911115"
     },
     "user_tz": 180
    },
    "id": "6W8mHKzEia0C",
    "outputId": "cd8e643f-e5aa-4ea0-ae93-582f1bd88eb3"
   },
   "outputs": [],
   "source": [
    "%%R\n",
    "set.seed(1354)\n",
    "as.integer(runif(min = 1, max = 100, n = 10))"
   ]
  },
  {
   "cell_type": "markdown",
   "metadata": {
    "id": "9AaOtUS7jqfK"
   },
   "source": [
    "# Importando e manipulando bancos de dados"
   ]
  },
  {
   "cell_type": "code",
   "execution_count": null,
   "metadata": {
    "colab": {
     "base_uri": "https://localhost:8080/"
    },
    "executionInfo": {
     "elapsed": 3185,
     "status": "ok",
     "timestamp": 1654967447084,
     "user": {
      "displayName": "Wesley Furriel",
      "userId": "03516357509047911115"
     },
     "user_tz": 180
    },
    "id": "r99MtilDjqSC",
    "outputId": "de40ab12-68b5-4519-e936-20bf48d9818b"
   },
   "outputs": [],
   "source": [
    "%%R\n",
    "dados <- read.csv(\"/content/AmostraBehavior.csv\", sep = \";\")\n",
    "head(dados)"
   ]
  },
  {
   "cell_type": "code",
   "execution_count": null,
   "metadata": {
    "colab": {
     "base_uri": "https://localhost:8080/"
    },
    "executionInfo": {
     "elapsed": 502,
     "status": "ok",
     "timestamp": 1654967450886,
     "user": {
      "displayName": "Wesley Furriel",
      "userId": "03516357509047911115"
     },
     "user_tz": 180
    },
    "id": "ynPti6bTvFK2",
    "outputId": "16eae1bd-3445-414a-efff-c908ed64f39b"
   },
   "outputs": [],
   "source": [
    "%%R\n",
    "dim(dados)"
   ]
  },
  {
   "cell_type": "code",
   "execution_count": null,
   "metadata": {
    "colab": {
     "base_uri": "https://localhost:8080/"
    },
    "executionInfo": {
     "elapsed": 3,
     "status": "ok",
     "timestamp": 1654967452311,
     "user": {
      "displayName": "Wesley Furriel",
      "userId": "03516357509047911115"
     },
     "user_tz": 180
    },
    "id": "SHx4sSzZvETm",
    "outputId": "66e786eb-3484-416b-f776-61b6748064b0"
   },
   "outputs": [],
   "source": [
    "%%R\n",
    "dados = dados[sample(nrow(dados), 5000), ]\n",
    "dim(dados)"
   ]
  },
  {
   "cell_type": "code",
   "execution_count": null,
   "metadata": {
    "colab": {
     "base_uri": "https://localhost:8080/"
    },
    "executionInfo": {
     "elapsed": 499,
     "status": "ok",
     "timestamp": 1654967455469,
     "user": {
      "displayName": "Wesley Furriel",
      "userId": "03516357509047911115"
     },
     "user_tz": 180
    },
    "id": "CVtfofvviaxT",
    "outputId": "33bd930c-1845-42bf-a1ae-855efaf3baa4"
   },
   "outputs": [],
   "source": [
    "%%R\n",
    "names(dados)"
   ]
  },
  {
   "cell_type": "code",
   "execution_count": null,
   "metadata": {
    "executionInfo": {
     "elapsed": 462,
     "status": "ok",
     "timestamp": 1654968597498,
     "user": {
      "displayName": "Wesley Furriel",
      "userId": "03516357509047911115"
     },
     "user_tz": 180
    },
    "id": "X0sdaO2GiauX"
   },
   "outputs": [],
   "source": [
    "%%R\n",
    "dados$Renda_por_dependente <- dados$RendaMensal/dados$N_dependentes"
   ]
  },
  {
   "cell_type": "code",
   "execution_count": null,
   "metadata": {
    "colab": {
     "base_uri": "https://localhost:8080/"
    },
    "executionInfo": {
     "elapsed": 493,
     "status": "ok",
     "timestamp": 1654968616134,
     "user": {
      "displayName": "Wesley Furriel",
      "userId": "03516357509047911115"
     },
     "user_tz": 180
    },
    "id": "axw8ycNloYAg",
    "outputId": "ba3d33d2-e8e1-4eb9-ee8b-12398fd1fbc7"
   },
   "outputs": [],
   "source": [
    "%%R\n",
    "head(dados[\"Renda_por_dependente\"])\n",
    "head(dados$Renda_por_dependente)"
   ]
  },
  {
   "cell_type": "code",
   "execution_count": null,
   "metadata": {
    "id": "OUK5sfhQpEdo"
   },
   "outputs": [],
   "source": [
    "%%R\n",
    "dados[\"Renda_por_dependente\"] <- dados[\"RendaMensal\"]/(dados[\"N_dependentes\"]+1)"
   ]
  },
  {
   "cell_type": "code",
   "execution_count": null,
   "metadata": {
    "colab": {
     "base_uri": "https://localhost:8080/"
    },
    "executionInfo": {
     "elapsed": 1262,
     "status": "ok",
     "timestamp": 1654968647716,
     "user": {
      "displayName": "Wesley Furriel",
      "userId": "03516357509047911115"
     },
     "user_tz": 180
    },
    "id": "d5qqgP4npJoo",
    "outputId": "bcfc4a9d-0604-4a97-f80c-c840e1c2f324"
   },
   "outputs": [],
   "source": [
    "%%R\n",
    "dados_depend <- subset(dados, dados$N_dependentes > 0)\n",
    "head(dados_depend)"
   ]
  },
  {
   "cell_type": "code",
   "execution_count": null,
   "metadata": {
    "colab": {
     "base_uri": "https://localhost:8080/"
    },
    "executionInfo": {
     "elapsed": 469,
     "status": "ok",
     "timestamp": 1654968549388,
     "user": {
      "displayName": "Wesley Furriel",
      "userId": "03516357509047911115"
     },
     "user_tz": 180
    },
    "id": "x0_iOU42pgon",
    "outputId": "1c7032d8-4d33-44bb-f669-51e6d1e01ccb"
   },
   "outputs": [],
   "source": [
    "%%R\n",
    "dados_depend2 <- subset(dados, dados$N_dependentes == 0 & dados$Idade > 40, select=c(Id, Perf_final, UltPercLimit, N_dependentes, Idade))\n",
    "head(dados_depend2)"
   ]
  },
  {
   "cell_type": "code",
   "execution_count": null,
   "metadata": {
    "colab": {
     "base_uri": "https://localhost:8080/"
    },
    "executionInfo": {
     "elapsed": 18,
     "status": "ok",
     "timestamp": 1654968526186,
     "user": {
      "displayName": "Wesley Furriel",
      "userId": "03516357509047911115"
     },
     "user_tz": 180
    },
    "id": "iBTvKmnYzxC1",
    "outputId": "9ffbf813-1dea-4c36-a907-56ff80f3dc7e"
   },
   "outputs": [],
   "source": [
    "%%R\n",
    "dados_depend3 <- subset(dados, dados$N_dependentes %in% c(0,3) , select=c(Id, Perf_final, UltPercLimit, N_dependentes, Idade))\n",
    "head(dados_depend3)"
   ]
  },
  {
   "cell_type": "code",
   "execution_count": null,
   "metadata": {
    "colab": {
     "base_uri": "https://localhost:8080/"
    },
    "executionInfo": {
     "elapsed": 482,
     "status": "ok",
     "timestamp": 1654968559195,
     "user": {
      "displayName": "Wesley Furriel",
      "userId": "03516357509047911115"
     },
     "user_tz": 180
    },
    "id": "1JpQ06QfpgiY",
    "outputId": "0b718a72-2909-468a-c55d-a4f0ba2df193"
   },
   "outputs": [],
   "source": [
    "%%R\n",
    "dados_ord <- dados_depend2[order(dados_depend2$Idade),]\n",
    "head(dados_ord,10)"
   ]
  },
  {
   "cell_type": "markdown",
   "metadata": {
    "id": "Fz3Er-4Jy2Qt"
   },
   "source": [
    "# Agrupamentos e tabelas"
   ]
  },
  {
   "cell_type": "code",
   "execution_count": null,
   "metadata": {
    "colab": {
     "base_uri": "https://localhost:8080/"
    },
    "executionInfo": {
     "elapsed": 485,
     "status": "ok",
     "timestamp": 1654968290342,
     "user": {
      "displayName": "Wesley Furriel",
      "userId": "03516357509047911115"
     },
     "user_tz": 180
    },
    "id": "fx_mKWNUvVJ_",
    "outputId": "a7f0c69c-8ae2-48f5-8f96-25abacdccd67"
   },
   "outputs": [],
   "source": [
    "%%R\n",
    "names(dados)"
   ]
  },
  {
   "cell_type": "code",
   "execution_count": null,
   "metadata": {
    "executionInfo": {
     "elapsed": 457,
     "status": "ok",
     "timestamp": 1654968802457,
     "user": {
      "displayName": "Wesley Furriel",
      "userId": "03516357509047911115"
     },
     "user_tz": 180
    },
    "id": "8ZHnUSshzBlF"
   },
   "outputs": [],
   "source": [
    "%%R\n",
    "tab <- table(dados$Perf_final)"
   ]
  },
  {
   "cell_type": "code",
   "execution_count": null,
   "metadata": {
    "colab": {
     "base_uri": "https://localhost:8080/"
    },
    "executionInfo": {
     "elapsed": 7,
     "status": "ok",
     "timestamp": 1654968803852,
     "user": {
      "displayName": "Wesley Furriel",
      "userId": "03516357509047911115"
     },
     "user_tz": 180
    },
    "id": "bmgjWoLR0k-d",
    "outputId": "43ed7ece-a7bb-4005-bcb5-1393067cd82d"
   },
   "outputs": [],
   "source": [
    "%%R\n",
    "prop.table(tab)"
   ]
  },
  {
   "cell_type": "markdown",
   "metadata": {
    "id": "ES2qvoBI1V8l"
   },
   "source": [
    "Verificar se tem pegou mais emprestimos ter maior proporção de maus"
   ]
  },
  {
   "cell_type": "code",
   "execution_count": null,
   "metadata": {
    "colab": {
     "base_uri": "https://localhost:8080/"
    },
    "executionInfo": {
     "elapsed": 3,
     "status": "ok",
     "timestamp": 1654968900441,
     "user": {
      "displayName": "Wesley Furriel",
      "userId": "03516357509047911115"
     },
     "user_tz": 180
    },
    "id": "hPzgulTw0k5V",
    "outputId": "0abd2190-bbe1-4624-cf80-966ab5652e0d"
   },
   "outputs": [],
   "source": [
    "%%R\n",
    "tab2 <- table(dados$Perf_final, dados$N_emprestimos)\n",
    "prop.table(tab2,2)"
   ]
  },
  {
   "cell_type": "code",
   "execution_count": null,
   "metadata": {
    "executionInfo": {
     "elapsed": 4,
     "status": "ok",
     "timestamp": 1654969330251,
     "user": {
      "displayName": "Wesley Furriel",
      "userId": "03516357509047911115"
     },
     "user_tz": 180
    },
    "id": "yB8jcH7N2-Hl"
   },
   "outputs": [],
   "source": [
    "%%R\n",
    "library(\"dplyr\")"
   ]
  },
  {
   "cell_type": "code",
   "execution_count": null,
   "metadata": {
    "colab": {
     "base_uri": "https://localhost:8080/"
    },
    "executionInfo": {
     "elapsed": 3,
     "status": "ok",
     "timestamp": 1654969487609,
     "user": {
      "displayName": "Wesley Furriel",
      "userId": "03516357509047911115"
     },
     "user_tz": 180
    },
    "id": "Kp8cEhvN0kyX",
    "outputId": "4696e14f-f568-40a1-be5b-1ddd711fbe39"
   },
   "outputs": [],
   "source": [
    "%%R\n",
    "sumar_dados <- dados %>% \n",
    "                        group_by(N_emprestimos) %>%\n",
    "                        summarise(mean_renda  = mean(RendaMensal),\n",
    "                                  mean_limite = mean(UltPercLimit),\n",
    "                                  prop_mau    = mean(Perf_final))\n",
    "sumar_dados"
   ]
  },
  {
   "cell_type": "markdown",
   "metadata": {
    "id": "RiY3Ma523n2M"
   },
   "source": [
    "O perfil que mais atrasa usa mais o limite e pede mais emprestimos"
   ]
  },
  {
   "cell_type": "markdown",
   "metadata": {
    "id": "xsdHFNbvr1w3"
   },
   "source": [
    "# Gerando alguns gráficos"
   ]
  },
  {
   "cell_type": "code",
   "execution_count": null,
   "metadata": {
    "colab": {
     "base_uri": "https://localhost:8080/",
     "height": 497
    },
    "executionInfo": {
     "elapsed": 7,
     "status": "ok",
     "timestamp": 1654969812297,
     "user": {
      "displayName": "Wesley Furriel",
      "userId": "03516357509047911115"
     },
     "user_tz": 180
    },
    "id": "gJObogg6r0hZ",
    "outputId": "8252eda8-72e2-4696-a23f-63861247e21e"
   },
   "outputs": [],
   "source": [
    "%%R\n",
    "counts <- table(dados$Perf_final)\n",
    "barplot(counts, main = \"Distribuição da performance\", xlab = \"Volume de bons e maus pagadores\",\n",
    "         names.arg=c(\"Bom\", \"Mau\"), col = \"#006699\")"
   ]
  },
  {
   "cell_type": "code",
   "execution_count": null,
   "metadata": {
    "colab": {
     "base_uri": "https://localhost:8080/",
     "height": 497
    },
    "executionInfo": {
     "elapsed": 9,
     "status": "ok",
     "timestamp": 1654970298812,
     "user": {
      "displayName": "Wesley Furriel",
      "userId": "03516357509047911115"
     },
     "user_tz": 180
    },
    "id": "rBkrCvTu3ves",
    "outputId": "4783ed14-7665-47b5-e81c-b6b114a559ff"
   },
   "outputs": [],
   "source": [
    "%%R\n",
    "dados$Perf_final2\n",
    "\n",
    "dados$Perf_final2[dados$Perf_final == 1] <- \"Mau\"\n",
    "dados$Perf_final2[dados$Perf_final == 0] <- \"Bom\"\n",
    "\n",
    "boxplot(UltPercLimit ~ Perf_final2, data = dados, xlab = \"Bons e maus pagadores\",\n",
    "   ylab =  \"% de utilização do limite\", main = \"Boxplot do % de utilização do limite segundo a performance\",\n",
    "   col = \"#006699\")"
   ]
  },
  {
   "cell_type": "code",
   "execution_count": null,
   "metadata": {
    "executionInfo": {
     "elapsed": 1162,
     "status": "ok",
     "timestamp": 1654971282374,
     "user": {
      "displayName": "Wesley Furriel",
      "userId": "03516357509047911115"
     },
     "user_tz": 180
    },
    "id": "PnDmZVdN3vOf"
   },
   "outputs": [],
   "source": [
    "%%R\n",
    "ggplot(data = dados, aes(x = Perf_final2, y = UltPercLimit, fill = Perf_final2, group = Perf_final2)) +\n",
    "  geom_boxplot(aes(fill = Perf_final2),colour = \"black\") +\n",
    "  geom_jitter(aes(color = Perf_final2), position = position_jitter(0.2), alpha = 0.1) +\n",
    "  scale_fill_manual(values=c(\"#006699\",\"#ff0000\")) +\n",
    "  xlab(\"Bons e maus pagadores\") + ylab(\"% de utilização do limite\") +\n",
    "  scale_colour_manual(values=c(\"#006699\",\"#ff0000\")) +\n",
    "  stat_summary(fun.y = median, geom = \"point\", shape = 23, size = 4, fill = \"black\", \n",
    "               color = \"black\") +\n",
    "  facet_wrap(~ CAT_RendaMensal\n",
    "  , scales = \"free\", ncol = 6) +\n",
    "  theme(\n",
    "        axis.ticks.x = element_blank(),\n",
    "        strip.background = element_rect(fill=\"black\"),\n",
    "        strip.text.x = element_text(colour = \"white\", face=\"bold\"),\n",
    "        panel.grid.major = element_blank(),\n",
    "        panel.grid.minor = element_blank(),\n",
    "        panel.border = element_blank(),\n",
    "        panel.background = element_blank(),\n",
    "        plot.margin = margin(t = 0, r = 0, b = 0,l = 0, \"cm\")) -> boxgg\n",
    "\n",
    "boxgg\n",
    "\n",
    "dir1 <- \"/content/box_gg.jpg\"\n",
    "ggsave(dir1, boxgg, device = \"jpg\", width = 28, height = 12, units = \"cm\", dpi = 120)"
   ]
  }
 ],
 "metadata": {
  "colab": {
   "collapsed_sections": [],
   "name": "R_google_Colab.ipynb",
   "provenance": []
  },
  "kernelspec": {
   "display_name": "Python 3 (ipykernel)",
   "language": "python",
   "name": "python3"
  },
  "language_info": {
   "codemirror_mode": {
    "name": "ipython",
    "version": 3
   },
   "file_extension": ".py",
   "mimetype": "text/x-python",
   "name": "python",
   "nbconvert_exporter": "python",
   "pygments_lexer": "ipython3",
   "version": "3.9.12"
  }
 },
 "nbformat": 4,
 "nbformat_minor": 4
}
