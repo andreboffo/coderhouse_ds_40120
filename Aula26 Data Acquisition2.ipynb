{
 "cells": [
  {
   "cell_type": "code",
   "execution_count": null,
   "metadata": {},
   "outputs": [],
   "source": [
    "#%pip install Sqlalchemy\n",
    "#%pip install sqlite3\n",
    "#%pip install cx_Oracle\n",
    "#%pip install Pyodbc\n",
    "\n",
    "#conda install Sqlalchemy\n",
    "#conda install sqlite\n",
    "#conda install cx_Oracle\n",
    "#conda install Pyodbc"
   ]
  },
  {
   "cell_type": "markdown",
   "metadata": {
    "id": "9QyXBobCqSO2"
   },
   "source": [
    "# sqlite3"
   ]
  },
  {
   "cell_type": "code",
   "execution_count": 39,
   "metadata": {
    "colab": {
     "base_uri": "https://localhost:8080/"
    },
    "executionInfo": {
     "elapsed": 304,
     "status": "ok",
     "timestamp": 1653741398739,
     "user": {
      "displayName": "Wesley Furriel",
      "userId": "03516357509047911115"
     },
     "user_tz": 180
    },
    "id": "97Fk9dy2iln6",
    "outputId": "593ead54-df33-4e10-ac08-5d964c850f0d"
   },
   "outputs": [
    {
     "name": "stdout",
     "output_type": "stream",
     "text": [
      "                    name\n",
      "0  NBA_season1718_salary\n",
      "1          Seasons_Stats\n"
     ]
    }
   ],
   "source": [
    "import sqlite3\n",
    "import pandas as pd\n",
    "\n",
    "sql = \"SELECT name FROM sqlite_master WHERE type='table'\"\n",
    "\n",
    "con = sqlite3.connect(\"./bases/Aula26/Nba_salary.sqlite\")\n",
    "df = pd.read_sql_query(sql,con)\n",
    "print(df)\n",
    "\n",
    "con.close()"
   ]
  },
  {
   "cell_type": "code",
   "execution_count": 40,
   "metadata": {
    "colab": {
     "base_uri": "https://localhost:8080/",
     "height": 206
    },
    "executionInfo": {
     "elapsed": 18,
     "status": "ok",
     "timestamp": 1653740679880,
     "user": {
      "displayName": "Wesley Furriel",
      "userId": "03516357509047911115"
     },
     "user_tz": 180
    },
    "id": "M8xaY5hvilhG",
    "outputId": "289869ee-f9ff-478f-ed61-87076cd17ab6"
   },
   "outputs": [
    {
     "data": {
      "text/html": [
       "<div>\n",
       "<style scoped>\n",
       "    .dataframe tbody tr th:only-of-type {\n",
       "        vertical-align: middle;\n",
       "    }\n",
       "\n",
       "    .dataframe tbody tr th {\n",
       "        vertical-align: top;\n",
       "    }\n",
       "\n",
       "    .dataframe thead th {\n",
       "        text-align: right;\n",
       "    }\n",
       "</style>\n",
       "<table border=\"1\" class=\"dataframe\">\n",
       "  <thead>\n",
       "    <tr style=\"text-align: right;\">\n",
       "      <th></th>\n",
       "      <th>X1</th>\n",
       "      <th>Player</th>\n",
       "      <th>Tm</th>\n",
       "      <th>season17_18</th>\n",
       "    </tr>\n",
       "  </thead>\n",
       "  <tbody>\n",
       "    <tr>\n",
       "      <th>0</th>\n",
       "      <td>1.0</td>\n",
       "      <td>Stephen Curry</td>\n",
       "      <td>GSW</td>\n",
       "      <td>34682550.0</td>\n",
       "    </tr>\n",
       "    <tr>\n",
       "      <th>1</th>\n",
       "      <td>2.0</td>\n",
       "      <td>LeBron James</td>\n",
       "      <td>CLE</td>\n",
       "      <td>33285709.0</td>\n",
       "    </tr>\n",
       "    <tr>\n",
       "      <th>2</th>\n",
       "      <td>3.0</td>\n",
       "      <td>Paul Millsap</td>\n",
       "      <td>DEN</td>\n",
       "      <td>31269231.0</td>\n",
       "    </tr>\n",
       "    <tr>\n",
       "      <th>3</th>\n",
       "      <td>4.0</td>\n",
       "      <td>Gordon Hayward</td>\n",
       "      <td>BOS</td>\n",
       "      <td>29727900.0</td>\n",
       "    </tr>\n",
       "    <tr>\n",
       "      <th>4</th>\n",
       "      <td>5.0</td>\n",
       "      <td>Blake Griffin</td>\n",
       "      <td>DET</td>\n",
       "      <td>29512900.0</td>\n",
       "    </tr>\n",
       "  </tbody>\n",
       "</table>\n",
       "</div>"
      ],
      "text/plain": [
       "    X1          Player   Tm  season17_18\n",
       "0  1.0   Stephen Curry  GSW   34682550.0\n",
       "1  2.0    LeBron James  CLE   33285709.0\n",
       "2  3.0    Paul Millsap  DEN   31269231.0\n",
       "3  4.0  Gordon Hayward  BOS   29727900.0\n",
       "4  5.0   Blake Griffin  DET   29512900.0"
      ]
     },
     "execution_count": 40,
     "metadata": {},
     "output_type": "execute_result"
    }
   ],
   "source": [
    "import sqlite3\n",
    "import pandas as pd\n",
    "\n",
    "con = sqlite3.connect(\"./bases/Aula26/Nba_salary.sqlite\")\n",
    "df = pd.read_sql_query(\"SELECT * FROM NBA_season1718_salary\",con)\n",
    "df.head()"
   ]
  },
  {
   "cell_type": "code",
   "execution_count": 41,
   "metadata": {},
   "outputs": [
    {
     "data": {
      "text/plain": [
       "(573, 4)"
      ]
     },
     "execution_count": 41,
     "metadata": {},
     "output_type": "execute_result"
    }
   ],
   "source": [
    "df.shape"
   ]
  },
  {
   "cell_type": "code",
   "execution_count": 42,
   "metadata": {
    "colab": {
     "base_uri": "https://localhost:8080/"
    },
    "executionInfo": {
     "elapsed": 8,
     "status": "ok",
     "timestamp": 1653740776073,
     "user": {
      "displayName": "Wesley Furriel",
      "userId": "03516357509047911115"
     },
     "user_tz": 180
    },
    "id": "xMV0SaT1l0Op",
    "outputId": "da3510f7-d007-4458-ff69-07ea0a369fb8"
   },
   "outputs": [
    {
     "data": {
      "text/plain": [
       "Tm\n",
       "ATL    27\n",
       "BOS    17\n",
       "BRK    18\n",
       "CHI    24\n",
       "CHO    14\n",
       "CLE    14\n",
       "DAL    22\n",
       "DEN    16\n",
       "DET    20\n",
       "GSW    16\n",
       "HOU    22\n",
       "IND    19\n",
       "LAC    20\n",
       "LAL    22\n",
       "MEM    20\n",
       "MIA    18\n",
       "MIL    22\n",
       "MIN    16\n",
       "NOP    21\n",
       "NYK    21\n",
       "OKC    15\n",
       "ORL    17\n",
       "PHI    20\n",
       "PHO    21\n",
       "POR    19\n",
       "SAC    20\n",
       "SAS    17\n",
       "TOR    17\n",
       "UTA    20\n",
       "WAS    18\n",
       "Name: Player, dtype: int64"
      ]
     },
     "execution_count": 42,
     "metadata": {},
     "output_type": "execute_result"
    }
   ],
   "source": [
    "df.groupby(\"Tm\")[\"Player\"].count()"
   ]
  },
  {
   "cell_type": "markdown",
   "metadata": {
    "id": "KezajAlnsrAZ"
   },
   "source": [
    "# JSON"
   ]
  },
  {
   "cell_type": "code",
   "execution_count": null,
   "metadata": {
    "executionInfo": {
     "elapsed": 8,
     "status": "ok",
     "timestamp": 1653742009781,
     "user": {
      "displayName": "Wesley Furriel",
      "userId": "03516357509047911115"
     },
     "user_tz": 180
    },
    "id": "_vzNZ75rtFW5"
   },
   "outputs": [],
   "source": [
    "import json"
   ]
  },
  {
   "cell_type": "code",
   "execution_count": null,
   "metadata": {
    "colab": {
     "base_uri": "https://localhost:8080/"
    },
    "executionInfo": {
     "elapsed": 13,
     "status": "ok",
     "timestamp": 1653742506131,
     "user": {
      "displayName": "Wesley Furriel",
      "userId": "03516357509047911115"
     },
     "user_tz": 180
    },
    "id": "HVW38F01spnQ",
    "outputId": "d7af8867-9b54-4ade-d98c-87330f4201f8"
   },
   "outputs": [],
   "source": [
    "file_json = open(\"./bases/Aula26/Exemplo_1.json\")\n",
    "dados = json.load(file_json)\n",
    "dados"
   ]
  },
  {
   "cell_type": "code",
   "execution_count": null,
   "metadata": {
    "executionInfo": {
     "elapsed": 10,
     "status": "ok",
     "timestamp": 1653742330524,
     "user": {
      "displayName": "Wesley Furriel",
      "userId": "03516357509047911115"
     },
     "user_tz": 180
    },
    "id": "VKMyuDr5tfbW"
   },
   "outputs": [],
   "source": [
    "x = \"\"\"{\n",
    "\"Name\": \"Jennifer Smith\",\n",
    "\"Contact Number\": 7867567898,\n",
    "\"Email\": \"jen123@gmail.com\",\n",
    "\"Hobbies\":[\"Reading\",\"Sketching\",\"Horse Riding\"]\n",
    "}\"\"\""
   ]
  },
  {
   "cell_type": "code",
   "execution_count": null,
   "metadata": {
    "colab": {
     "base_uri": "https://localhost:8080/"
    },
    "executionInfo": {
     "elapsed": 286,
     "status": "ok",
     "timestamp": 1653742333801,
     "user": {
      "displayName": "Wesley Furriel",
      "userId": "03516357509047911115"
     },
     "user_tz": 180
    },
    "id": "8yvBcOo-tfH2",
    "outputId": "cb0a564f-3fdb-4ed3-c5b0-b83df56eaf77"
   },
   "outputs": [],
   "source": [
    "y = json.loads(x)\n",
    "y"
   ]
  },
  {
   "cell_type": "code",
   "execution_count": null,
   "metadata": {
    "colab": {
     "base_uri": "https://localhost:8080/",
     "height": 238
    },
    "executionInfo": {
     "elapsed": 290,
     "status": "ok",
     "timestamp": 1653742514488,
     "user": {
      "displayName": "Wesley Furriel",
      "userId": "03516357509047911115"
     },
     "user_tz": 180
    },
    "id": "ddlXFAg_uvn9",
    "outputId": "9c004429-e5e9-4ff4-fe81-c816b96487a9"
   },
   "outputs": [],
   "source": [
    "pd.read_json(\"./bases/Aula26/Exemplo_1.json\", orient = \"column\")"
   ]
  },
  {
   "cell_type": "code",
   "execution_count": null,
   "metadata": {
    "colab": {
     "base_uri": "https://localhost:8080/",
     "height": 175
    },
    "executionInfo": {
     "elapsed": 271,
     "status": "ok",
     "timestamp": 1653742531203,
     "user": {
      "displayName": "Wesley Furriel",
      "userId": "03516357509047911115"
     },
     "user_tz": 180
    },
    "id": "hsqTwG4jvEn3",
    "outputId": "4fadb875-8a8e-46c3-dada-b8e2cdb38640"
   },
   "outputs": [],
   "source": [
    "pd.read_json(\"./bases/Aula26/Exemplo_1.json\", orient = \"index\")"
   ]
  },
  {
   "cell_type": "markdown",
   "metadata": {
    "id": "H_xrnKGb2mIs"
   },
   "source": []
  },
  {
   "cell_type": "markdown",
   "metadata": {
    "id": "2YDgMC6g1iLk"
   },
   "source": [
    "# Requests.get "
   ]
  },
  {
   "cell_type": "code",
   "execution_count": null,
   "metadata": {
    "executionInfo": {
     "elapsed": 289,
     "status": "ok",
     "timestamp": 1653744476093,
     "user": {
      "displayName": "Wesley Furriel",
      "userId": "03516357509047911115"
     },
     "user_tz": 180
    },
    "id": "HQbrmCTV2Ikc"
   },
   "outputs": [],
   "source": [
    "import requests\n",
    "import json\n",
    "import pandas as pd"
   ]
  },
  {
   "cell_type": "code",
   "execution_count": null,
   "metadata": {
    "executionInfo": {
     "elapsed": 301,
     "status": "ok",
     "timestamp": 1653744448307,
     "user": {
      "displayName": "Wesley Furriel",
      "userId": "03516357509047911115"
     },
     "user_tz": 180
    },
    "id": "JyiN3anJ1d-V"
   },
   "outputs": [],
   "source": [
    "url = \"https://raw.githubusercontent.com/bttmly/nba/master/data/teams.json\""
   ]
  },
  {
   "cell_type": "code",
   "execution_count": null,
   "metadata": {
    "colab": {
     "base_uri": "https://localhost:8080/"
    },
    "executionInfo": {
     "elapsed": 421,
     "status": "ok",
     "timestamp": 1653744484524,
     "user": {
      "displayName": "Wesley Furriel",
      "userId": "03516357509047911115"
     },
     "user_tz": 180
    },
    "id": "2Lh96lbu2Hkd",
    "outputId": "9fb19cd9-548b-433b-ec9e-0342b81b4b45"
   },
   "outputs": [],
   "source": [
    "resposta = requests.get(url)\n",
    "resposta"
   ]
  },
  {
   "cell_type": "code",
   "execution_count": null,
   "metadata": {
    "colab": {
     "base_uri": "https://localhost:8080/",
     "height": 191
    },
    "executionInfo": {
     "elapsed": 16,
     "status": "ok",
     "timestamp": 1653744579899,
     "user": {
      "displayName": "Wesley Furriel",
      "userId": "03516357509047911115"
     },
     "user_tz": 180
    },
    "id": "JTSh9OB325hK",
    "outputId": "532dfa96-b0ee-4789-d380-5bb6223d2759"
   },
   "outputs": [],
   "source": [
    "resposta.text"
   ]
  },
  {
   "cell_type": "code",
   "execution_count": null,
   "metadata": {
    "colab": {
     "base_uri": "https://localhost:8080/"
    },
    "executionInfo": {
     "elapsed": 10,
     "status": "ok",
     "timestamp": 1653744696203,
     "user": {
      "displayName": "Wesley Furriel",
      "userId": "03516357509047911115"
     },
     "user_tz": 180
    },
    "id": "0nOdsCT73Ovq",
    "outputId": "ac9ae7a7-2c68-4970-9068-1679180ea2ed"
   },
   "outputs": [],
   "source": [
    "texto = resposta.text\n",
    "json.loads(texto)"
   ]
  },
  {
   "cell_type": "code",
   "execution_count": null,
   "metadata": {
    "colab": {
     "base_uri": "https://localhost:8080/",
     "height": 206
    },
    "executionInfo": {
     "elapsed": 19,
     "status": "ok",
     "timestamp": 1653744813959,
     "user": {
      "displayName": "Wesley Furriel",
      "userId": "03516357509047911115"
     },
     "user_tz": 180
    },
    "id": "Sr8YVeAj3m41",
    "outputId": "93bc465a-9014-4c35-85f6-e8117e514cc1"
   },
   "outputs": [],
   "source": [
    "jsondata = json.loads(texto)\n",
    "df = pd.DataFrame.from_dict(jsondata)\n",
    "df.head()"
   ]
  },
  {
   "cell_type": "code",
   "execution_count": null,
   "metadata": {},
   "outputs": [],
   "source": []
  }
 ],
 "metadata": {
  "colab": {
   "authorship_tag": "ABX9TyP/4CtZAXn5LhgEJiuqxEjB",
   "collapsed_sections": [],
   "name": "sql_pandas.ipynb",
   "provenance": []
  },
  "kernelspec": {
   "display_name": "Python 3 (ipykernel)",
   "language": "python",
   "name": "python3"
  },
  "language_info": {
   "codemirror_mode": {
    "name": "ipython",
    "version": 3
   },
   "file_extension": ".py",
   "mimetype": "text/x-python",
   "name": "python",
   "nbconvert_exporter": "python",
   "pygments_lexer": "ipython3",
   "version": "3.9.12"
  }
 },
 "nbformat": 4,
 "nbformat_minor": 4
}
