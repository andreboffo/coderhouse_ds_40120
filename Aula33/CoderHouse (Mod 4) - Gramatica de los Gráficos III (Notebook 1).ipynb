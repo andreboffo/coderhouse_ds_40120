{
 "cells": [
  {
   "cell_type": "markdown",
   "metadata": {
    "id": "TFAyiJNL4bU7"
   },
   "source": [
    "\n",
    "# Análise espacial em Python"
   ]
  },
  {
   "cell_type": "code",
   "execution_count": null,
   "metadata": {
    "executionInfo": {
     "elapsed": 5,
     "status": "ok",
     "timestamp": 1653845649529,
     "user": {
      "displayName": "Wesley Furriel",
      "userId": "03516357509047911115"
     },
     "user_tz": 180
    },
    "id": "dBHc-5gT4bU_"
   },
   "outputs": [],
   "source": [
    "#Geolocalização\n",
    "#conda install -c conda-forge geopy\n",
    "from geopy.geocoders import Nominatim #api que me ofrece las geolocaliciones de diferentes ciudades\n",
    "import time\n",
    "import math"
   ]
  },
  {
   "cell_type": "code",
   "execution_count": null,
   "metadata": {
    "executionInfo": {
     "elapsed": 3,
     "status": "ok",
     "timestamp": 1653845652162,
     "user": {
      "displayName": "Wesley Furriel",
      "userId": "03516357509047911115"
     },
     "user_tz": 180
    },
    "id": "49z-0m6_4bVB"
   },
   "outputs": [],
   "source": [
    "# Criamos um Objeto Nominatim\n",
    "geo = Nominatim(user_agent=\"AppMap\")"
   ]
  },
  {
   "cell_type": "code",
   "execution_count": null,
   "metadata": {
    "colab": {
     "base_uri": "https://localhost:8080/"
    },
    "executionInfo": {
     "elapsed": 525,
     "status": "ok",
     "timestamp": 1653845654758,
     "user": {
      "displayName": "Wesley Furriel",
      "userId": "03516357509047911115"
     },
     "user_tz": 180
    },
    "id": "CSxb0uY54bVC",
    "outputId": "1d84fd46-da28-42d7-d17d-af390c56abfe"
   },
   "outputs": [],
   "source": [
    "#Definimos o lugar\n",
    "loc = geo.geocode(\"Rosario\")\n",
    "print(loc.address)"
   ]
  },
  {
   "cell_type": "code",
   "execution_count": null,
   "metadata": {
    "colab": {
     "base_uri": "https://localhost:8080/"
    },
    "executionInfo": {
     "elapsed": 496,
     "status": "ok",
     "timestamp": 1653845656326,
     "user": {
      "displayName": "Wesley Furriel",
      "userId": "03516357509047911115"
     },
     "user_tz": 180
    },
    "id": "HmTcbuN04bVD",
    "outputId": "96b603cc-648c-4ceb-e29e-d379b5deee87"
   },
   "outputs": [],
   "source": [
    "#Vejamos outro exemplo\n",
    "loc = geo.geocode(\"Avenida Pellegrini, Rosario\")\n",
    "print(loc.address)"
   ]
  },
  {
   "cell_type": "code",
   "execution_count": null,
   "metadata": {
    "colab": {
     "base_uri": "https://localhost:8080/"
    },
    "executionInfo": {
     "elapsed": 6,
     "status": "ok",
     "timestamp": 1653845658365,
     "user": {
      "displayName": "Wesley Furriel",
      "userId": "03516357509047911115"
     },
     "user_tz": 180
    },
    "id": "zQ_7NMR-4bVE",
    "outputId": "0ecc2ab9-3188-4681-cce9-d27349af4538"
   },
   "outputs": [],
   "source": [
    "#Localização de NY\n",
    "loc = geo.geocode(\"175 5th Avenue NYC\")\n",
    "print(loc.address)"
   ]
  },
  {
   "cell_type": "code",
   "execution_count": null,
   "metadata": {
    "colab": {
     "base_uri": "https://localhost:8080/"
    },
    "executionInfo": {
     "elapsed": 4,
     "status": "ok",
     "timestamp": 1653845659983,
     "user": {
      "displayName": "Wesley Furriel",
      "userId": "03516357509047911115"
     },
     "user_tz": 180
    },
    "id": "rGawTZCK4bVE",
    "outputId": "0479fb99-171d-453f-ac3a-cd658b74d6e4"
   },
   "outputs": [],
   "source": [
    "#Printar o local\n",
    "print((loc.latitude, loc.longitude))"
   ]
  },
  {
   "cell_type": "code",
   "execution_count": null,
   "metadata": {
    "colab": {
     "base_uri": "https://localhost:8080/"
    },
    "executionInfo": {
     "elapsed": 3245,
     "status": "ok",
     "timestamp": 1653845722343,
     "user": {
      "displayName": "Wesley Furriel",
      "userId": "03516357509047911115"
     },
     "user_tz": 180
    },
    "id": "A2e6qzzD4bVF",
    "outputId": "c977c9d8-7f9b-4f6b-9380-04c66e600248"
   },
   "outputs": [],
   "source": [
    "#Outra forma de obter a localização:\n",
    "lugar = input(\"Ingresa un lugar por favor\") #ejemplo: \"175 5th Avenue NYC\"\n",
    "loc = geo.geocode(lugar)\n",
    "print((loc.latitude, loc.longitude))\n",
    "print(loc.address)"
   ]
  },
  {
   "cell_type": "markdown",
   "metadata": {
    "id": "7MxT8sq_4bVG"
   },
   "source": [
    "# Localização de várias cidades"
   ]
  },
  {
   "cell_type": "code",
   "execution_count": null,
   "metadata": {
    "colab": {
     "base_uri": "https://localhost:8080/"
    },
    "executionInfo": {
     "elapsed": 3916,
     "status": "ok",
     "timestamp": 1653845743531,
     "user": {
      "displayName": "Wesley Furriel",
      "userId": "03516357509047911115"
     },
     "user_tz": 180
    },
    "id": "MB3ptMad4bVH",
    "outputId": "f5ec24d3-65d7-4cfb-b129-2f363b02de7a"
   },
   "outputs": [],
   "source": [
    "location_lista = [\"Mexico\",\"Madrid\",\"Paris\"]\n",
    "\n",
    "#Lista\n",
    "for i in location_lista:\n",
    "    address = geo.geocode(i, timeout=10) #obtengo la direccion\n",
    "    print (\"Ciudad de \"+ i + \" : \" + str(address.longitude) + \",\" + str(address.latitude)) #muestro la longitud y latitud\n",
    "    time.sleep(1)"
   ]
  },
  {
   "cell_type": "markdown",
   "metadata": {
    "id": "KdMDQ66S4bVI"
   },
   "source": [
    "# Calcular a distancia entre os locais"
   ]
  },
  {
   "cell_type": "code",
   "execution_count": null,
   "metadata": {
    "colab": {
     "base_uri": "https://localhost:8080/"
    },
    "executionInfo": {
     "elapsed": 9,
     "status": "ok",
     "timestamp": 1653845974057,
     "user": {
      "displayName": "Wesley Furriel",
      "userId": "03516357509047911115"
     },
     "user_tz": 180
    },
    "id": "SAQw_aoW4bVI",
    "outputId": "5854bdfa-0140-4f65-9d29-191b61806227"
   },
   "outputs": [],
   "source": [
    "from geopy.distance import distance\n",
    "Rosario = (-32.94682, -60.63932)\n",
    "SantaFe = (-31.64881, -60.70868)\n",
    "distancia = distance(Rosario,SantaFe).km\n",
    "print (distancia)"
   ]
  },
  {
   "cell_type": "code",
   "execution_count": null,
   "metadata": {
    "id": "GMx8ZH_z4bVJ"
   },
   "outputs": [],
   "source": [
    "# Exercícios - Alunos: \n",
    "\n",
    "#Calcular a distância entre São Paulo e o Rio de Janeiro"
   ]
  }
 ],
 "metadata": {
  "colab": {
   "collapsed_sections": [],
   "name": "CoderHouse (Mod 4) - Gramatica de los Gráficos III (Notebook 1).ipynb",
   "provenance": []
  },
  "kernelspec": {
   "display_name": "Python 3 (ipykernel)",
   "language": "python",
   "name": "python3"
  },
  "language_info": {
   "codemirror_mode": {
    "name": "ipython",
    "version": 3
   },
   "file_extension": ".py",
   "mimetype": "text/x-python",
   "name": "python",
   "nbconvert_exporter": "python",
   "pygments_lexer": "ipython3",
   "version": "3.9.12"
  },
  "varInspector": {
   "cols": {
    "lenName": 16,
    "lenType": 16,
    "lenVar": 40
   },
   "kernels_config": {
    "python": {
     "delete_cmd_postfix": "",
     "delete_cmd_prefix": "del ",
     "library": "var_list.py",
     "varRefreshCmd": "print(var_dic_list())"
    },
    "r": {
     "delete_cmd_postfix": ") ",
     "delete_cmd_prefix": "rm(",
     "library": "var_list.r",
     "varRefreshCmd": "cat(var_dic_list()) "
    }
   },
   "types_to_exclude": [
    "module",
    "function",
    "builtin_function_or_method",
    "instance",
    "_Feature"
   ],
   "window_display": false
  }
 },
 "nbformat": 4,
 "nbformat_minor": 4
}
