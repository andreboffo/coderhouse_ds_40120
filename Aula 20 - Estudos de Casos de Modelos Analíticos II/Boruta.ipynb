{
 "cells": [
  {
   "cell_type": "markdown",
   "metadata": {
    "id": "R7pQDLV5O4Di"
   },
   "source": [
    "Instalando e testando o Boruta"
   ]
  },
  {
   "cell_type": "code",
   "execution_count": null,
   "metadata": {
    "colab": {
     "base_uri": "https://localhost:8080/"
    },
    "executionInfo": {
     "elapsed": 7646,
     "status": "ok",
     "timestamp": 1654455510935,
     "user": {
      "displayName": "Wesley Furriel",
      "userId": "03516357509047911115"
     },
     "user_tz": 180
    },
    "id": "MT6nP59V3f6u",
    "outputId": "f6109a79-0203-4118-e9d2-70ee0d4127d1",
    "tags": []
   },
   "outputs": [],
   "source": [
    "%pip install boruta"
   ]
  },
  {
   "cell_type": "code",
   "execution_count": null,
   "metadata": {
    "id": "Vp1oHpnv3vS2"
   },
   "outputs": [],
   "source": [
    "# https://github.com/gabrielhpr/FeatureSelectionWithBoruta/blob/master/Feature_selection_with_boruta.ipynb"
   ]
  },
  {
   "cell_type": "code",
   "execution_count": null,
   "metadata": {
    "executionInfo": {
     "elapsed": 355,
     "status": "ok",
     "timestamp": 1654456012462,
     "user": {
      "displayName": "Wesley Furriel",
      "userId": "03516357509047911115"
     },
     "user_tz": 180
    },
    "id": "NsCNUDHh3iEb"
   },
   "outputs": [],
   "source": [
    "import pandas as pd\n",
    "import seaborn as sns\n",
    "import matplotlib.pyplot as plt\n",
    "import numpy as np\n",
    "from sklearn.ensemble import RandomForestClassifier\n",
    "from scipy.stats import binom\n",
    "from IPython.display         import Image\n",
    "from sklearn.model_selection import train_test_split\n",
    "from sklearn import preprocessing\n",
    "from sklearn.metrics import accuracy_score"
   ]
  },
  {
   "cell_type": "code",
   "execution_count": null,
   "metadata": {
    "executionInfo": {
     "elapsed": 256,
     "status": "ok",
     "timestamp": 1654455554012,
     "user": {
      "displayName": "Wesley Furriel",
      "userId": "03516357509047911115"
     },
     "user_tz": 180
    },
    "id": "hV5bviB33iBL"
   },
   "outputs": [],
   "source": [
    "sample_behavior = pd.read_csv(\"../bases/AmostraBehavior.csv\")"
   ]
  },
  {
   "cell_type": "code",
   "execution_count": null,
   "metadata": {
    "executionInfo": {
     "elapsed": 352,
     "status": "ok",
     "timestamp": 1654455559036,
     "user": {
      "displayName": "Wesley Furriel",
      "userId": "03516357509047911115"
     },
     "user_tz": 180
    },
    "id": "kylvbfpN3h-b"
   },
   "outputs": [],
   "source": [
    "labels = sample_behavior.columns[2:len(sample_behavior.columns)]\n",
    " \n",
    "X = sample_behavior[labels] # Covariáveis\n",
    "y = sample_behavior.Perf_final # Target"
   ]
  },
  {
   "cell_type": "code",
   "execution_count": null,
   "metadata": {
    "executionInfo": {
     "elapsed": 253,
     "status": "ok",
     "timestamp": 1654455560890,
     "user": {
      "displayName": "Wesley Furriel",
      "userId": "03516357509047911115"
     },
     "user_tz": 180
    },
    "id": "6yOL1o9W3h7u"
   },
   "outputs": [],
   "source": [
    "X_train, X_test, y_train, y_test = train_test_split(X, y, test_size = 0.3, random_state = 999)"
   ]
  },
  {
   "cell_type": "markdown",
   "metadata": {
    "id": "ACzO-8xX6hKE"
   },
   "source": [
    "# Boruta\n",
    "\n",
    "O algoritmo Boruta é um Wrapper Method, que realiza várias maniputações e combinações entre as features para gerar os resultados de interesse.\n",
    "O Boruta considera as características de sombra e a distribuição binomial para realizar a seleção de features. As features são comparadas com uma versão aleatória de si mesmo, a partir de uma duplicação do banco de dados criando assim variáveis sombras para cada coluna.\n",
    "\n",
    "Em seguida é verificado se as variáveis observadas têm uma importância maior que as variáveis sombras, se isso ocorrer chamamos de acerto.\n",
    "Com isso continuam as iterações com o intuito de remover correlações com a variável resposta."
   ]
  },
  {
   "cell_type": "code",
   "execution_count": null,
   "metadata": {
    "executionInfo": {
     "elapsed": 251,
     "status": "ok",
     "timestamp": 1654455708831,
     "user": {
      "displayName": "Wesley Furriel",
      "userId": "03516357509047911115"
     },
     "user_tz": 180
    },
    "id": "claUaone3h4E"
   },
   "outputs": [],
   "source": [
    "from sklearn.ensemble import RandomForestClassifier\n",
    "from boruta import BorutaPy\n",
    "\n",
    "y = y_train.ravel()"
   ]
  },
  {
   "cell_type": "code",
   "execution_count": null,
   "metadata": {
    "executionInfo": {
     "elapsed": 2,
     "status": "ok",
     "timestamp": 1654455732317,
     "user": {
      "displayName": "Wesley Furriel",
      "userId": "03516357509047911115"
     },
     "user_tz": 180
    },
    "id": "h850DuOc3hxj"
   },
   "outputs": [],
   "source": [
    "# define random forest classifier, with utilising all cores and\n",
    "# sampling in proportion to y labels\n",
    "rf = RandomForestClassifier(n_jobs=-1, class_weight = \"balanced\", bootstrap = True)"
   ]
  },
  {
   "cell_type": "markdown",
   "metadata": {
    "id": "SAZl5MhKPyGN"
   },
   "source": [
    "- class_weight: {“balanced”, “balanced_subsample”}, dict or list of dicts, default=None\n",
    "Weights associated with classes in the form {class_label: weight}. If not given, all classes are supposed to have weight one. For multi-output problems, a list of dicts can be provided in the same order as the columns of y.\n",
    "- n_jobs: The number of jobs to run in parallel. fit, predict, decision_path and apply are all parallelized over the trees. None means 1 unless in a joblib.parallel_backend context. -1 means using all processors. See Glossary for more details.\n",
    "\n",
    "- bootstrap: default=True\n",
    "Whether bootstrap samples are used when building trees. If False, the whole dataset is used to build each tree."
   ]
  },
  {
   "cell_type": "code",
   "execution_count": null,
   "metadata": {
    "executionInfo": {
     "elapsed": 2,
     "status": "ok",
     "timestamp": 1654456874132,
     "user": {
      "displayName": "Wesley Furriel",
      "userId": "03516357509047911115"
     },
     "user_tz": 180
    },
    "id": "bDml7Lb13hnL"
   },
   "outputs": [],
   "source": [
    "feat_selector = BorutaPy(rf, n_estimators = \"auto\", random_state=1)"
   ]
  },
  {
   "cell_type": "markdown",
   "metadata": {
    "id": "Nhc8tnSGP0P8"
   },
   "source": [
    "- n_estimators: he number of trees to be used in the forest\n",
    "\n",
    "- random_state: int, RandomState instance or None, default=None\n",
    "Controls both the randomness of the bootstrapping of the samples used when building trees (if bootstrap=True) and the sampling of the features to consider when looking for the best split at each node (if max_features < n_features). See Glossary for details."
   ]
  },
  {
   "cell_type": "code",
   "execution_count": null,
   "metadata": {
    "executionInfo": {
     "elapsed": 53032,
     "status": "ok",
     "timestamp": 1654456933485,
     "user": {
      "displayName": "Wesley Furriel",
      "userId": "03516357509047911115"
     },
     "user_tz": 180
    },
    "id": "tvDXy4Ku3hZb"
   },
   "outputs": [],
   "source": [
    "result_boruta = feat_selector.fit(X_train.values, y_train)"
   ]
  },
  {
   "cell_type": "code",
   "execution_count": null,
   "metadata": {
    "colab": {
     "base_uri": "https://localhost:8080/"
    },
    "executionInfo": {
     "elapsed": 6,
     "status": "ok",
     "timestamp": 1654456933486,
     "user": {
      "displayName": "Wesley Furriel",
      "userId": "03516357509047911115"
     },
     "user_tz": 180
    },
    "id": "0CJuc0O1UKAr",
    "outputId": "6a08488e-4c9b-4b1d-d6de-92bec2557444"
   },
   "outputs": [],
   "source": [
    "result_boruta"
   ]
  },
  {
   "cell_type": "code",
   "execution_count": null,
   "metadata": {
    "colab": {
     "base_uri": "https://localhost:8080/"
    },
    "executionInfo": {
     "elapsed": 251,
     "status": "ok",
     "timestamp": 1654457086096,
     "user": {
      "displayName": "Wesley Furriel",
      "userId": "03516357509047911115"
     },
     "user_tz": 180
    },
    "id": "PxIZrf8CURos",
    "outputId": "5222e9e2-cd51-4fe3-ff36-0de49eab6d8b"
   },
   "outputs": [],
   "source": [
    "# Verificar as features selecionadas\n",
    "accept = X_train.columns[feat_selector.support_].to_list()\n",
    "irresolution = X_train.columns[feat_selector.support_weak_].to_list()\n",
    "\n",
    "print(\"Selecionadas:\")\n",
    "print(\"************************\")\n",
    "print(list(accept))\n",
    "print(list(irresolution))\n",
    "print(\"************************\")"
   ]
  },
  {
   "cell_type": "code",
   "execution_count": null,
   "metadata": {
    "colab": {
     "base_uri": "https://localhost:8080/"
    },
    "executionInfo": {
     "elapsed": 3,
     "status": "ok",
     "timestamp": 1654457194386,
     "user": {
      "displayName": "Wesley Furriel",
      "userId": "03516357509047911115"
     },
     "user_tz": 180
    },
    "id": "4WeSkpXO68ll",
    "outputId": "1fdb06d7-ddf6-467a-d693-940b8b40e5da"
   },
   "outputs": [],
   "source": [
    "# .support_\n",
    "result_boruta.support_"
   ]
  },
  {
   "cell_type": "code",
   "execution_count": null,
   "metadata": {
    "colab": {
     "base_uri": "https://localhost:8080/"
    },
    "executionInfo": {
     "elapsed": 308,
     "status": "ok",
     "timestamp": 1654457196044,
     "user": {
      "displayName": "Wesley Furriel",
      "userId": "03516357509047911115"
     },
     "user_tz": 180
    },
    "id": "neLnoshI68jN",
    "outputId": "7cb94fec-607d-41ff-a019-806fa74820f9"
   },
   "outputs": [],
   "source": [
    "# .ranking_ \n",
    "result_boruta.ranking_"
   ]
  },
  {
   "cell_type": "code",
   "execution_count": null,
   "metadata": {
    "colab": {
     "base_uri": "https://localhost:8080/"
    },
    "executionInfo": {
     "elapsed": 363,
     "status": "ok",
     "timestamp": 1654455833812,
     "user": {
      "displayName": "Wesley Furriel",
      "userId": "03516357509047911115"
     },
     "user_tz": 180
    },
    "id": "4Aed_U2y68dY",
    "outputId": "7f8a3a55-f9f3-4e36-9bc3-6ffbbda4147d"
   },
   "outputs": [],
   "source": [
    "feature_ranks = list(zip(X_train.columns, \n",
    "                         result_boruta.ranking_, \n",
    "                         result_boruta.support_))\n",
    "\n",
    "for feat in feature_ranks:\n",
    "    print('Feature: {} Rank: {},  Manter: {}'.format(feat[0], feat[1], feat[2]))"
   ]
  },
  {
   "cell_type": "markdown",
   "metadata": {},
   "source": [
    "### Teste 01: Todas as Variáveis"
   ]
  },
  {
   "cell_type": "code",
   "execution_count": null,
   "metadata": {},
   "outputs": [],
   "source": [
    "rf1 = RandomForestClassifier(n_jobs=-1, class_weight = \"balanced\", bootstrap = True)\n",
    "rf1.fit(X_train,y_train)\n",
    "y_test_pred1 = rf1.predict(X_test) \n",
    "accuracy_score(y_test, y_test_pred1)"
   ]
  },
  {
   "cell_type": "markdown",
   "metadata": {},
   "source": [
    "### Teste 02: Variáveis em support_"
   ]
  },
  {
   "cell_type": "code",
   "execution_count": null,
   "metadata": {},
   "outputs": [],
   "source": [
    "cols_select = ['UltPercLimit', 'N_Atraso30_59Dias', 'lnRazaoGastos', 'WOE_CAT_UltPercLimit']\n",
    "rf2 = RandomForestClassifier(n_jobs=-1, class_weight = \"balanced\", bootstrap = True)\n",
    "rf2.fit(X_train[cols_select],y_train)\n",
    "y_test_pred2 = rf2.predict(X_test[cols_select]) \n",
    "accuracy_score(y_test, y_test_pred2)"
   ]
  },
  {
   "cell_type": "markdown",
   "metadata": {},
   "source": [
    "### Teste 03: Variáveis em support_weak_"
   ]
  },
  {
   "cell_type": "code",
   "execution_count": null,
   "metadata": {},
   "outputs": [],
   "source": [
    "cols_select = ['UltPercLimit', 'N_Atraso30_59Dias', 'lnRazaoGastos', 'WOE_CAT_UltPercLimit','RendaMensal']\n",
    "rf2 = RandomForestClassifier(n_jobs=-1, class_weight = \"balanced\", bootstrap = True)\n",
    "rf2.fit(X_train[cols_select],y_train)\n",
    "y_test_pred2 = rf2.predict(X_test[cols_select]) \n",
    "accuracy_score(y_test, y_test_pred2)"
   ]
  },
  {
   "cell_type": "code",
   "execution_count": null,
   "metadata": {},
   "outputs": [],
   "source": []
  }
 ],
 "metadata": {
  "colab": {
   "collapsed_sections": [],
   "name": "Boruta.ipynb",
   "provenance": []
  },
  "kernelspec": {
   "display_name": "Python 3 (ipykernel)",
   "language": "python",
   "name": "python3"
  },
  "language_info": {
   "codemirror_mode": {
    "name": "ipython",
    "version": 3
   },
   "file_extension": ".py",
   "mimetype": "text/x-python",
   "name": "python",
   "nbconvert_exporter": "python",
   "pygments_lexer": "ipython3",
   "version": "3.9.12"
  }
 },
 "nbformat": 4,
 "nbformat_minor": 4
}
