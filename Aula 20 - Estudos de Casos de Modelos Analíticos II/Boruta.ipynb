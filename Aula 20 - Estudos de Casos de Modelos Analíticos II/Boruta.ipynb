{
 "cells": [
  {
   "cell_type": "markdown",
   "metadata": {
    "id": "R7pQDLV5O4Di"
   },
   "source": [
    "Instalando e testando o Boruta"
   ]
  },
  {
   "cell_type": "code",
   "execution_count": null,
   "metadata": {
    "colab": {
     "base_uri": "https://localhost:8080/"
    },
    "executionInfo": {
     "elapsed": 7646,
     "status": "ok",
     "timestamp": 1654455510935,
     "user": {
      "displayName": "Wesley Furriel",
      "userId": "03516357509047911115"
     },
     "user_tz": 180
    },
    "id": "MT6nP59V3f6u",
    "outputId": "f6109a79-0203-4118-e9d2-70ee0d4127d1",
    "tags": []
   },
   "outputs": [],
   "source": [
    "%pip install boruta"
   ]
  },
  {
   "cell_type": "code",
   "execution_count": null,
   "metadata": {
    "id": "Vp1oHpnv3vS2"
   },
   "outputs": [],
   "source": [
    "# https://github.com/gabrielhpr/FeatureSelectionWithBoruta/blob/master/Feature_selection_with_boruta.ipynb"
   ]
  },
  {
   "cell_type": "code",
   "execution_count": 32,
   "metadata": {
    "executionInfo": {
     "elapsed": 355,
     "status": "ok",
     "timestamp": 1654456012462,
     "user": {
      "displayName": "Wesley Furriel",
      "userId": "03516357509047911115"
     },
     "user_tz": 180
    },
    "id": "NsCNUDHh3iEb"
   },
   "outputs": [],
   "source": [
    "import pandas as pd\n",
    "import seaborn as sns\n",
    "import matplotlib.pyplot as plt\n",
    "import numpy as np\n",
    "from sklearn.ensemble import RandomForestClassifier\n",
    "from scipy.stats import binom\n",
    "from IPython.display         import Image\n",
    "from sklearn.model_selection import train_test_split\n",
    "from sklearn import preprocessing\n",
    "from sklearn.metrics import accuracy_score"
   ]
  },
  {
   "cell_type": "code",
   "execution_count": 54,
   "metadata": {
    "executionInfo": {
     "elapsed": 256,
     "status": "ok",
     "timestamp": 1654455554012,
     "user": {
      "displayName": "Wesley Furriel",
      "userId": "03516357509047911115"
     },
     "user_tz": 180
    },
    "id": "hV5bviB33iBL"
   },
   "outputs": [
    {
     "data": {
      "text/html": [
       "<div>\n",
       "<style scoped>\n",
       "    .dataframe tbody tr th:only-of-type {\n",
       "        vertical-align: middle;\n",
       "    }\n",
       "\n",
       "    .dataframe tbody tr th {\n",
       "        vertical-align: top;\n",
       "    }\n",
       "\n",
       "    .dataframe thead th {\n",
       "        text-align: right;\n",
       "    }\n",
       "</style>\n",
       "<table border=\"1\" class=\"dataframe\">\n",
       "  <thead>\n",
       "    <tr style=\"text-align: right;\">\n",
       "      <th></th>\n",
       "      <th>Id</th>\n",
       "      <th>Perf_final</th>\n",
       "      <th>UltPercLimit</th>\n",
       "      <th>Idade</th>\n",
       "      <th>N_Atraso30_59Dias</th>\n",
       "      <th>RazaoGastos</th>\n",
       "      <th>RendaMensal</th>\n",
       "      <th>N_EmeprestimosAbertos</th>\n",
       "      <th>N_atrasos_Ult90Dias</th>\n",
       "      <th>N_emprestimos</th>\n",
       "      <th>...</th>\n",
       "      <th>CAT_lnRazaoGastos</th>\n",
       "      <th>WOE_N_atrasos_Ult90Dias</th>\n",
       "      <th>WOE_N_emprestimos</th>\n",
       "      <th>WOE_N_Atraso60_89Dias</th>\n",
       "      <th>WOE_N_dependentes</th>\n",
       "      <th>WOE_CAT_UltPercLimit</th>\n",
       "      <th>WOE_CAT_Idade</th>\n",
       "      <th>WOE_CAT_RazaoGastos</th>\n",
       "      <th>WOE_CAT_lnRazaoGastos</th>\n",
       "      <th>WOE_CAT_N_EmeprestimosAbertos</th>\n",
       "    </tr>\n",
       "  </thead>\n",
       "  <tbody>\n",
       "    <tr>\n",
       "      <th>0</th>\n",
       "      <td>18744</td>\n",
       "      <td>1</td>\n",
       "      <td>1.007054</td>\n",
       "      <td>50</td>\n",
       "      <td>3</td>\n",
       "      <td>0.141472</td>\n",
       "      <td>3300.0</td>\n",
       "      <td>4</td>\n",
       "      <td>0</td>\n",
       "      <td>5</td>\n",
       "      <td>...</td>\n",
       "      <td>2</td>\n",
       "      <td>0.396398</td>\n",
       "      <td>-0.249568</td>\n",
       "      <td>-2.741548</td>\n",
       "      <td>-0.296127</td>\n",
       "      <td>-1.251949</td>\n",
       "      <td>-0.039102</td>\n",
       "      <td>0.198561</td>\n",
       "      <td>0.198561</td>\n",
       "      <td>-0.360182</td>\n",
       "    </tr>\n",
       "    <tr>\n",
       "      <th>1</th>\n",
       "      <td>106506</td>\n",
       "      <td>0</td>\n",
       "      <td>0.014666</td>\n",
       "      <td>56</td>\n",
       "      <td>0</td>\n",
       "      <td>0.293676</td>\n",
       "      <td>5454.0</td>\n",
       "      <td>5</td>\n",
       "      <td>0</td>\n",
       "      <td>2</td>\n",
       "      <td>...</td>\n",
       "      <td>3</td>\n",
       "      <td>0.396398</td>\n",
       "      <td>0.199208</td>\n",
       "      <td>0.290109</td>\n",
       "      <td>-0.193107</td>\n",
       "      <td>1.270830</td>\n",
       "      <td>-0.039102</td>\n",
       "      <td>0.081338</td>\n",
       "      <td>0.081338</td>\n",
       "      <td>0.159293</td>\n",
       "    </tr>\n",
       "    <tr>\n",
       "      <th>2</th>\n",
       "      <td>133947</td>\n",
       "      <td>0</td>\n",
       "      <td>0.597323</td>\n",
       "      <td>42</td>\n",
       "      <td>0</td>\n",
       "      <td>0.138962</td>\n",
       "      <td>25000.0</td>\n",
       "      <td>11</td>\n",
       "      <td>0</td>\n",
       "      <td>2</td>\n",
       "      <td>...</td>\n",
       "      <td>2</td>\n",
       "      <td>0.396398</td>\n",
       "      <td>0.199208</td>\n",
       "      <td>0.290109</td>\n",
       "      <td>-0.296127</td>\n",
       "      <td>-0.034538</td>\n",
       "      <td>-0.254073</td>\n",
       "      <td>0.198561</td>\n",
       "      <td>0.198561</td>\n",
       "      <td>0.129020</td>\n",
       "    </tr>\n",
       "    <tr>\n",
       "      <th>3</th>\n",
       "      <td>81867</td>\n",
       "      <td>0</td>\n",
       "      <td>0.025595</td>\n",
       "      <td>50</td>\n",
       "      <td>0</td>\n",
       "      <td>0.342331</td>\n",
       "      <td>8520.0</td>\n",
       "      <td>12</td>\n",
       "      <td>0</td>\n",
       "      <td>2</td>\n",
       "      <td>...</td>\n",
       "      <td>3</td>\n",
       "      <td>0.396398</td>\n",
       "      <td>0.199208</td>\n",
       "      <td>0.290109</td>\n",
       "      <td>0.147208</td>\n",
       "      <td>1.478014</td>\n",
       "      <td>-0.039102</td>\n",
       "      <td>0.081338</td>\n",
       "      <td>0.081338</td>\n",
       "      <td>0.129020</td>\n",
       "    </tr>\n",
       "    <tr>\n",
       "      <th>4</th>\n",
       "      <td>108256</td>\n",
       "      <td>0</td>\n",
       "      <td>0.105306</td>\n",
       "      <td>80</td>\n",
       "      <td>0</td>\n",
       "      <td>0.143105</td>\n",
       "      <td>5764.0</td>\n",
       "      <td>14</td>\n",
       "      <td>0</td>\n",
       "      <td>5</td>\n",
       "      <td>...</td>\n",
       "      <td>2</td>\n",
       "      <td>0.396398</td>\n",
       "      <td>-0.249568</td>\n",
       "      <td>0.290109</td>\n",
       "      <td>-0.091080</td>\n",
       "      <td>0.875943</td>\n",
       "      <td>1.020199</td>\n",
       "      <td>0.198561</td>\n",
       "      <td>0.198561</td>\n",
       "      <td>-0.000105</td>\n",
       "    </tr>\n",
       "    <tr>\n",
       "      <th>...</th>\n",
       "      <td>...</td>\n",
       "      <td>...</td>\n",
       "      <td>...</td>\n",
       "      <td>...</td>\n",
       "      <td>...</td>\n",
       "      <td>...</td>\n",
       "      <td>...</td>\n",
       "      <td>...</td>\n",
       "      <td>...</td>\n",
       "      <td>...</td>\n",
       "      <td>...</td>\n",
       "      <td>...</td>\n",
       "      <td>...</td>\n",
       "      <td>...</td>\n",
       "      <td>...</td>\n",
       "      <td>...</td>\n",
       "      <td>...</td>\n",
       "      <td>...</td>\n",
       "      <td>...</td>\n",
       "      <td>...</td>\n",
       "      <td>...</td>\n",
       "    </tr>\n",
       "    <tr>\n",
       "      <th>7346</th>\n",
       "      <td>1576</td>\n",
       "      <td>0</td>\n",
       "      <td>0.000054</td>\n",
       "      <td>41</td>\n",
       "      <td>0</td>\n",
       "      <td>0.108462</td>\n",
       "      <td>5577.0</td>\n",
       "      <td>7</td>\n",
       "      <td>0</td>\n",
       "      <td>5</td>\n",
       "      <td>...</td>\n",
       "      <td>1</td>\n",
       "      <td>0.396398</td>\n",
       "      <td>-0.249568</td>\n",
       "      <td>0.290109</td>\n",
       "      <td>-0.091080</td>\n",
       "      <td>1.270830</td>\n",
       "      <td>-0.254073</td>\n",
       "      <td>0.062296</td>\n",
       "      <td>0.062296</td>\n",
       "      <td>0.159293</td>\n",
       "    </tr>\n",
       "    <tr>\n",
       "      <th>7347</th>\n",
       "      <td>28740</td>\n",
       "      <td>0</td>\n",
       "      <td>0.102461</td>\n",
       "      <td>66</td>\n",
       "      <td>0</td>\n",
       "      <td>0.686345</td>\n",
       "      <td>4166.0</td>\n",
       "      <td>18</td>\n",
       "      <td>0</td>\n",
       "      <td>2</td>\n",
       "      <td>...</td>\n",
       "      <td>4</td>\n",
       "      <td>0.396398</td>\n",
       "      <td>0.199208</td>\n",
       "      <td>0.290109</td>\n",
       "      <td>-0.193107</td>\n",
       "      <td>0.875943</td>\n",
       "      <td>1.020199</td>\n",
       "      <td>-0.423260</td>\n",
       "      <td>-0.423260</td>\n",
       "      <td>-0.000105</td>\n",
       "    </tr>\n",
       "    <tr>\n",
       "      <th>7348</th>\n",
       "      <td>147913</td>\n",
       "      <td>1</td>\n",
       "      <td>0.835482</td>\n",
       "      <td>46</td>\n",
       "      <td>1</td>\n",
       "      <td>0.291097</td>\n",
       "      <td>4166.0</td>\n",
       "      <td>6</td>\n",
       "      <td>0</td>\n",
       "      <td>5</td>\n",
       "      <td>...</td>\n",
       "      <td>3</td>\n",
       "      <td>0.396398</td>\n",
       "      <td>-0.249568</td>\n",
       "      <td>-1.859418</td>\n",
       "      <td>-0.193107</td>\n",
       "      <td>-1.251949</td>\n",
       "      <td>-0.254073</td>\n",
       "      <td>0.081338</td>\n",
       "      <td>0.081338</td>\n",
       "      <td>0.159293</td>\n",
       "    </tr>\n",
       "    <tr>\n",
       "      <th>7349</th>\n",
       "      <td>110681</td>\n",
       "      <td>1</td>\n",
       "      <td>0.006804</td>\n",
       "      <td>79</td>\n",
       "      <td>2</td>\n",
       "      <td>0.003998</td>\n",
       "      <td>2500.0</td>\n",
       "      <td>12</td>\n",
       "      <td>0</td>\n",
       "      <td>5</td>\n",
       "      <td>...</td>\n",
       "      <td>1</td>\n",
       "      <td>0.396398</td>\n",
       "      <td>-0.249568</td>\n",
       "      <td>-1.859418</td>\n",
       "      <td>0.147208</td>\n",
       "      <td>1.270830</td>\n",
       "      <td>1.020199</td>\n",
       "      <td>0.062296</td>\n",
       "      <td>0.062296</td>\n",
       "      <td>0.129020</td>\n",
       "    </tr>\n",
       "    <tr>\n",
       "      <th>7350</th>\n",
       "      <td>78015</td>\n",
       "      <td>0</td>\n",
       "      <td>0.155352</td>\n",
       "      <td>65</td>\n",
       "      <td>1</td>\n",
       "      <td>0.444791</td>\n",
       "      <td>22450.0</td>\n",
       "      <td>15</td>\n",
       "      <td>0</td>\n",
       "      <td>3</td>\n",
       "      <td>...</td>\n",
       "      <td>3</td>\n",
       "      <td>0.396398</td>\n",
       "      <td>-0.041143</td>\n",
       "      <td>0.290109</td>\n",
       "      <td>0.147208</td>\n",
       "      <td>0.875943</td>\n",
       "      <td>0.459374</td>\n",
       "      <td>0.081338</td>\n",
       "      <td>0.081338</td>\n",
       "      <td>-0.000105</td>\n",
       "    </tr>\n",
       "  </tbody>\n",
       "</table>\n",
       "<p>7351 rows × 29 columns</p>\n",
       "</div>"
      ],
      "text/plain": [
       "          Id  Perf_final  UltPercLimit  Idade  N_Atraso30_59Dias  RazaoGastos  \\\n",
       "0      18744           1      1.007054     50                  3     0.141472   \n",
       "1     106506           0      0.014666     56                  0     0.293676   \n",
       "2     133947           0      0.597323     42                  0     0.138962   \n",
       "3      81867           0      0.025595     50                  0     0.342331   \n",
       "4     108256           0      0.105306     80                  0     0.143105   \n",
       "...      ...         ...           ...    ...                ...          ...   \n",
       "7346    1576           0      0.000054     41                  0     0.108462   \n",
       "7347   28740           0      0.102461     66                  0     0.686345   \n",
       "7348  147913           1      0.835482     46                  1     0.291097   \n",
       "7349  110681           1      0.006804     79                  2     0.003998   \n",
       "7350   78015           0      0.155352     65                  1     0.444791   \n",
       "\n",
       "      RendaMensal  N_EmeprestimosAbertos  N_atrasos_Ult90Dias  N_emprestimos  \\\n",
       "0          3300.0                      4                    0              5   \n",
       "1          5454.0                      5                    0              2   \n",
       "2         25000.0                     11                    0              2   \n",
       "3          8520.0                     12                    0              2   \n",
       "4          5764.0                     14                    0              5   \n",
       "...           ...                    ...                  ...            ...   \n",
       "7346       5577.0                      7                    0              5   \n",
       "7347       4166.0                     18                    0              2   \n",
       "7348       4166.0                      6                    0              5   \n",
       "7349       2500.0                     12                    0              5   \n",
       "7350      22450.0                     15                    0              3   \n",
       "\n",
       "      ...  CAT_lnRazaoGastos  WOE_N_atrasos_Ult90Dias  WOE_N_emprestimos  \\\n",
       "0     ...                  2                 0.396398          -0.249568   \n",
       "1     ...                  3                 0.396398           0.199208   \n",
       "2     ...                  2                 0.396398           0.199208   \n",
       "3     ...                  3                 0.396398           0.199208   \n",
       "4     ...                  2                 0.396398          -0.249568   \n",
       "...   ...                ...                      ...                ...   \n",
       "7346  ...                  1                 0.396398          -0.249568   \n",
       "7347  ...                  4                 0.396398           0.199208   \n",
       "7348  ...                  3                 0.396398          -0.249568   \n",
       "7349  ...                  1                 0.396398          -0.249568   \n",
       "7350  ...                  3                 0.396398          -0.041143   \n",
       "\n",
       "      WOE_N_Atraso60_89Dias  WOE_N_dependentes  WOE_CAT_UltPercLimit  \\\n",
       "0                 -2.741548          -0.296127             -1.251949   \n",
       "1                  0.290109          -0.193107              1.270830   \n",
       "2                  0.290109          -0.296127             -0.034538   \n",
       "3                  0.290109           0.147208              1.478014   \n",
       "4                  0.290109          -0.091080              0.875943   \n",
       "...                     ...                ...                   ...   \n",
       "7346               0.290109          -0.091080              1.270830   \n",
       "7347               0.290109          -0.193107              0.875943   \n",
       "7348              -1.859418          -0.193107             -1.251949   \n",
       "7349              -1.859418           0.147208              1.270830   \n",
       "7350               0.290109           0.147208              0.875943   \n",
       "\n",
       "      WOE_CAT_Idade  WOE_CAT_RazaoGastos  WOE_CAT_lnRazaoGastos  \\\n",
       "0         -0.039102             0.198561               0.198561   \n",
       "1         -0.039102             0.081338               0.081338   \n",
       "2         -0.254073             0.198561               0.198561   \n",
       "3         -0.039102             0.081338               0.081338   \n",
       "4          1.020199             0.198561               0.198561   \n",
       "...             ...                  ...                    ...   \n",
       "7346      -0.254073             0.062296               0.062296   \n",
       "7347       1.020199            -0.423260              -0.423260   \n",
       "7348      -0.254073             0.081338               0.081338   \n",
       "7349       1.020199             0.062296               0.062296   \n",
       "7350       0.459374             0.081338               0.081338   \n",
       "\n",
       "      WOE_CAT_N_EmeprestimosAbertos  \n",
       "0                         -0.360182  \n",
       "1                          0.159293  \n",
       "2                          0.129020  \n",
       "3                          0.129020  \n",
       "4                         -0.000105  \n",
       "...                             ...  \n",
       "7346                       0.159293  \n",
       "7347                      -0.000105  \n",
       "7348                       0.159293  \n",
       "7349                       0.129020  \n",
       "7350                      -0.000105  \n",
       "\n",
       "[7351 rows x 29 columns]"
      ]
     },
     "execution_count": 54,
     "metadata": {},
     "output_type": "execute_result"
    }
   ],
   "source": [
    "sample_behavior = pd.read_csv(\"../bases/AmostraBehavior.csv\")\n",
    "sample_behavior"
   ]
  },
  {
   "cell_type": "code",
   "execution_count": 34,
   "metadata": {
    "executionInfo": {
     "elapsed": 352,
     "status": "ok",
     "timestamp": 1654455559036,
     "user": {
      "displayName": "Wesley Furriel",
      "userId": "03516357509047911115"
     },
     "user_tz": 180
    },
    "id": "kylvbfpN3h-b"
   },
   "outputs": [],
   "source": [
    "labels = sample_behavior.columns[2:len(sample_behavior.columns)]\n",
    " \n",
    "X = sample_behavior[labels] # Covariáveis\n",
    "y = sample_behavior.Perf_final # Target"
   ]
  },
  {
   "cell_type": "code",
   "execution_count": 35,
   "metadata": {
    "executionInfo": {
     "elapsed": 253,
     "status": "ok",
     "timestamp": 1654455560890,
     "user": {
      "displayName": "Wesley Furriel",
      "userId": "03516357509047911115"
     },
     "user_tz": 180
    },
    "id": "6yOL1o9W3h7u"
   },
   "outputs": [],
   "source": [
    "X_train, X_test, y_train, y_test = train_test_split(X, y, test_size = 0.3, random_state = 999)"
   ]
  },
  {
   "cell_type": "markdown",
   "metadata": {
    "id": "ACzO-8xX6hKE"
   },
   "source": [
    "# Boruta\n",
    "\n",
    "O algoritmo Boruta é um Wrapper Method, que realiza várias maniputações e combinações entre as features para gerar os resultados de interesse.\n",
    "O Boruta considera as características de sombra e a distribuição binomial para realizar a seleção de features. As features são comparadas com uma versão aleatória de si mesmo, a partir de uma duplicação do banco de dados criando assim variáveis sombras para cada coluna.\n",
    "\n",
    "Em seguida é verificado se as variáveis observadas têm uma importância maior que as variáveis sombras, se isso ocorrer chamamos de acerto.\n",
    "Com isso continuam as iterações com o intuito de remover correlações com a variável resposta."
   ]
  },
  {
   "cell_type": "code",
   "execution_count": 37,
   "metadata": {
    "executionInfo": {
     "elapsed": 251,
     "status": "ok",
     "timestamp": 1654455708831,
     "user": {
      "displayName": "Wesley Furriel",
      "userId": "03516357509047911115"
     },
     "user_tz": 180
    },
    "id": "claUaone3h4E"
   },
   "outputs": [],
   "source": [
    "from sklearn.ensemble import RandomForestClassifier\n",
    "from boruta import BorutaPy\n",
    "\n",
    "y = y_train.ravel()"
   ]
  },
  {
   "cell_type": "code",
   "execution_count": 38,
   "metadata": {
    "executionInfo": {
     "elapsed": 2,
     "status": "ok",
     "timestamp": 1654455732317,
     "user": {
      "displayName": "Wesley Furriel",
      "userId": "03516357509047911115"
     },
     "user_tz": 180
    },
    "id": "h850DuOc3hxj"
   },
   "outputs": [],
   "source": [
    "# define random forest classifier, with utilising all cores and\n",
    "# sampling in proportion to y labels\n",
    "rf = RandomForestClassifier(n_jobs=-1, class_weight = \"balanced\", bootstrap = True)"
   ]
  },
  {
   "cell_type": "markdown",
   "metadata": {
    "id": "SAZl5MhKPyGN"
   },
   "source": [
    "- class_weight: {“balanced”, “balanced_subsample”}, dict or list of dicts, default=None\n",
    "Weights associated with classes in the form {class_label: weight}. If not given, all classes are supposed to have weight one. For multi-output problems, a list of dicts can be provided in the same order as the columns of y.\n",
    "- n_jobs: The number of jobs to run in parallel. fit, predict, decision_path and apply are all parallelized over the trees. None means 1 unless in a joblib.parallel_backend context. -1 means using all processors. See Glossary for more details.\n",
    "\n",
    "- bootstrap: default=True\n",
    "Whether bootstrap samples are used when building trees. If False, the whole dataset is used to build each tree."
   ]
  },
  {
   "cell_type": "code",
   "execution_count": 39,
   "metadata": {
    "executionInfo": {
     "elapsed": 2,
     "status": "ok",
     "timestamp": 1654456874132,
     "user": {
      "displayName": "Wesley Furriel",
      "userId": "03516357509047911115"
     },
     "user_tz": 180
    },
    "id": "bDml7Lb13hnL"
   },
   "outputs": [],
   "source": [
    "feat_selector = BorutaPy(rf, n_estimators = \"auto\", random_state=1)"
   ]
  },
  {
   "cell_type": "markdown",
   "metadata": {
    "id": "Nhc8tnSGP0P8"
   },
   "source": [
    "- n_estimators: he number of trees to be used in the forest\n",
    "\n",
    "- random_state: int, RandomState instance or None, default=None\n",
    "Controls both the randomness of the bootstrapping of the samples used when building trees (if bootstrap=True) and the sampling of the features to consider when looking for the best split at each node (if max_features < n_features). See Glossary for details."
   ]
  },
  {
   "cell_type": "code",
   "execution_count": 40,
   "metadata": {
    "executionInfo": {
     "elapsed": 53032,
     "status": "ok",
     "timestamp": 1654456933485,
     "user": {
      "displayName": "Wesley Furriel",
      "userId": "03516357509047911115"
     },
     "user_tz": 180
    },
    "id": "tvDXy4Ku3hZb"
   },
   "outputs": [],
   "source": [
    "result_boruta = feat_selector.fit(X_train.values, y_train)"
   ]
  },
  {
   "cell_type": "code",
   "execution_count": 41,
   "metadata": {
    "colab": {
     "base_uri": "https://localhost:8080/"
    },
    "executionInfo": {
     "elapsed": 6,
     "status": "ok",
     "timestamp": 1654456933486,
     "user": {
      "displayName": "Wesley Furriel",
      "userId": "03516357509047911115"
     },
     "user_tz": 180
    },
    "id": "0CJuc0O1UKAr",
    "outputId": "6a08488e-4c9b-4b1d-d6de-92bec2557444"
   },
   "outputs": [
    {
     "data": {
      "text/html": [
       "<style>#sk-container-id-2 {color: black;background-color: white;}#sk-container-id-2 pre{padding: 0;}#sk-container-id-2 div.sk-toggleable {background-color: white;}#sk-container-id-2 label.sk-toggleable__label {cursor: pointer;display: block;width: 100%;margin-bottom: 0;padding: 0.3em;box-sizing: border-box;text-align: center;}#sk-container-id-2 label.sk-toggleable__label-arrow:before {content: \"▸\";float: left;margin-right: 0.25em;color: #696969;}#sk-container-id-2 label.sk-toggleable__label-arrow:hover:before {color: black;}#sk-container-id-2 div.sk-estimator:hover label.sk-toggleable__label-arrow:before {color: black;}#sk-container-id-2 div.sk-toggleable__content {max-height: 0;max-width: 0;overflow: hidden;text-align: left;background-color: #f0f8ff;}#sk-container-id-2 div.sk-toggleable__content pre {margin: 0.2em;color: black;border-radius: 0.25em;background-color: #f0f8ff;}#sk-container-id-2 input.sk-toggleable__control:checked~div.sk-toggleable__content {max-height: 200px;max-width: 100%;overflow: auto;}#sk-container-id-2 input.sk-toggleable__control:checked~label.sk-toggleable__label-arrow:before {content: \"▾\";}#sk-container-id-2 div.sk-estimator input.sk-toggleable__control:checked~label.sk-toggleable__label {background-color: #d4ebff;}#sk-container-id-2 div.sk-label input.sk-toggleable__control:checked~label.sk-toggleable__label {background-color: #d4ebff;}#sk-container-id-2 input.sk-hidden--visually {border: 0;clip: rect(1px 1px 1px 1px);clip: rect(1px, 1px, 1px, 1px);height: 1px;margin: -1px;overflow: hidden;padding: 0;position: absolute;width: 1px;}#sk-container-id-2 div.sk-estimator {font-family: monospace;background-color: #f0f8ff;border: 1px dotted black;border-radius: 0.25em;box-sizing: border-box;margin-bottom: 0.5em;}#sk-container-id-2 div.sk-estimator:hover {background-color: #d4ebff;}#sk-container-id-2 div.sk-parallel-item::after {content: \"\";width: 100%;border-bottom: 1px solid gray;flex-grow: 1;}#sk-container-id-2 div.sk-label:hover label.sk-toggleable__label {background-color: #d4ebff;}#sk-container-id-2 div.sk-serial::before {content: \"\";position: absolute;border-left: 1px solid gray;box-sizing: border-box;top: 0;bottom: 0;left: 50%;z-index: 0;}#sk-container-id-2 div.sk-serial {display: flex;flex-direction: column;align-items: center;background-color: white;padding-right: 0.2em;padding-left: 0.2em;position: relative;}#sk-container-id-2 div.sk-item {position: relative;z-index: 1;}#sk-container-id-2 div.sk-parallel {display: flex;align-items: stretch;justify-content: center;background-color: white;position: relative;}#sk-container-id-2 div.sk-item::before, #sk-container-id-2 div.sk-parallel-item::before {content: \"\";position: absolute;border-left: 1px solid gray;box-sizing: border-box;top: 0;bottom: 0;left: 50%;z-index: -1;}#sk-container-id-2 div.sk-parallel-item {display: flex;flex-direction: column;z-index: 1;position: relative;background-color: white;}#sk-container-id-2 div.sk-parallel-item:first-child::after {align-self: flex-end;width: 50%;}#sk-container-id-2 div.sk-parallel-item:last-child::after {align-self: flex-start;width: 50%;}#sk-container-id-2 div.sk-parallel-item:only-child::after {width: 0;}#sk-container-id-2 div.sk-dashed-wrapped {border: 1px dashed gray;margin: 0 0.4em 0.5em 0.4em;box-sizing: border-box;padding-bottom: 0.4em;background-color: white;}#sk-container-id-2 div.sk-label label {font-family: monospace;font-weight: bold;display: inline-block;line-height: 1.2em;}#sk-container-id-2 div.sk-label-container {text-align: center;}#sk-container-id-2 div.sk-container {/* jupyter's `normalize.less` sets `[hidden] { display: none; }` but bootstrap.min.css set `[hidden] { display: none !important; }` so we also need the `!important` here to be able to override the default hidden behavior on the sphinx rendered scikit-learn.org. See: https://github.com/scikit-learn/scikit-learn/issues/21755 */display: inline-block !important;position: relative;}#sk-container-id-2 div.sk-text-repr-fallback {display: none;}</style><div id=\"sk-container-id-2\" class=\"sk-top-container\"><div class=\"sk-text-repr-fallback\"><pre>BorutaPy(estimator=RandomForestClassifier(class_weight=&#x27;balanced&#x27;,\n",
       "                                          n_estimators=31, n_jobs=-1,\n",
       "                                          random_state=RandomState(MT19937) at 0x17E22D80640),\n",
       "         n_estimators=&#x27;auto&#x27;,\n",
       "         random_state=RandomState(MT19937) at 0x17E22D80640)</pre><b>In a Jupyter environment, please rerun this cell to show the HTML representation or trust the notebook. <br />On GitHub, the HTML representation is unable to render, please try loading this page with nbviewer.org.</b></div><div class=\"sk-container\" hidden><div class=\"sk-item sk-dashed-wrapped\"><div class=\"sk-label-container\"><div class=\"sk-label sk-toggleable\"><input class=\"sk-toggleable__control sk-hidden--visually\" id=\"sk-estimator-id-4\" type=\"checkbox\" ><label for=\"sk-estimator-id-4\" class=\"sk-toggleable__label sk-toggleable__label-arrow\">BorutaPy</label><div class=\"sk-toggleable__content\"><pre>BorutaPy(estimator=RandomForestClassifier(class_weight=&#x27;balanced&#x27;,\n",
       "                                          n_estimators=31, n_jobs=-1,\n",
       "                                          random_state=RandomState(MT19937) at 0x17E22D80640),\n",
       "         n_estimators=&#x27;auto&#x27;,\n",
       "         random_state=RandomState(MT19937) at 0x17E22D80640)</pre></div></div></div><div class=\"sk-parallel\"><div class=\"sk-parallel-item\"><div class=\"sk-item\"><div class=\"sk-label-container\"><div class=\"sk-label sk-toggleable\"><input class=\"sk-toggleable__control sk-hidden--visually\" id=\"sk-estimator-id-5\" type=\"checkbox\" ><label for=\"sk-estimator-id-5\" class=\"sk-toggleable__label sk-toggleable__label-arrow\">estimator: RandomForestClassifier</label><div class=\"sk-toggleable__content\"><pre>RandomForestClassifier(class_weight=&#x27;balanced&#x27;, n_estimators=31, n_jobs=-1,\n",
       "                       random_state=RandomState(MT19937) at 0x17E22D80640)</pre></div></div></div><div class=\"sk-serial\"><div class=\"sk-item\"><div class=\"sk-estimator sk-toggleable\"><input class=\"sk-toggleable__control sk-hidden--visually\" id=\"sk-estimator-id-6\" type=\"checkbox\" ><label for=\"sk-estimator-id-6\" class=\"sk-toggleable__label sk-toggleable__label-arrow\">RandomForestClassifier</label><div class=\"sk-toggleable__content\"><pre>RandomForestClassifier(class_weight=&#x27;balanced&#x27;, n_estimators=31, n_jobs=-1,\n",
       "                       random_state=RandomState(MT19937) at 0x17E22D80640)</pre></div></div></div></div></div></div></div></div></div></div>"
      ],
      "text/plain": [
       "BorutaPy(estimator=RandomForestClassifier(class_weight='balanced',\n",
       "                                          n_estimators=31, n_jobs=-1,\n",
       "                                          random_state=RandomState(MT19937) at 0x17E22D80640),\n",
       "         n_estimators='auto',\n",
       "         random_state=RandomState(MT19937) at 0x17E22D80640)"
      ]
     },
     "execution_count": 41,
     "metadata": {},
     "output_type": "execute_result"
    }
   ],
   "source": [
    "result_boruta"
   ]
  },
  {
   "cell_type": "code",
   "execution_count": 42,
   "metadata": {},
   "outputs": [
    {
     "data": {
      "text/plain": [
       "array([ True, False,  True, False, False, False, False, False, False,\n",
       "       False,  True, False, False, False, False, False, False, False,\n",
       "       False, False, False, False,  True, False, False, False, False])"
      ]
     },
     "execution_count": 42,
     "metadata": {},
     "output_type": "execute_result"
    }
   ],
   "source": [
    "feat_selector.support_"
   ]
  },
  {
   "cell_type": "code",
   "execution_count": 45,
   "metadata": {},
   "outputs": [
    {
     "data": {
      "text/plain": [
       "['UltPercLimit', 'N_Atraso30_59Dias', 'lnRazaoGastos', 'WOE_CAT_UltPercLimit']"
      ]
     },
     "execution_count": 45,
     "metadata": {},
     "output_type": "execute_result"
    }
   ],
   "source": [
    "X_train.columns[feat_selector.support_].to_list()"
   ]
  },
  {
   "cell_type": "code",
   "execution_count": 46,
   "metadata": {},
   "outputs": [
    {
     "data": {
      "text/plain": [
       "['RendaMensal']"
      ]
     },
     "execution_count": 46,
     "metadata": {},
     "output_type": "execute_result"
    }
   ],
   "source": [
    "X_train.columns[feat_selector.support_weak_].to_list()"
   ]
  },
  {
   "cell_type": "code",
   "execution_count": null,
   "metadata": {},
   "outputs": [],
   "source": []
  },
  {
   "cell_type": "code",
   "execution_count": null,
   "metadata": {},
   "outputs": [],
   "source": []
  },
  {
   "cell_type": "code",
   "execution_count": 47,
   "metadata": {
    "colab": {
     "base_uri": "https://localhost:8080/"
    },
    "executionInfo": {
     "elapsed": 251,
     "status": "ok",
     "timestamp": 1654457086096,
     "user": {
      "displayName": "Wesley Furriel",
      "userId": "03516357509047911115"
     },
     "user_tz": 180
    },
    "id": "PxIZrf8CURos",
    "outputId": "5222e9e2-cd51-4fe3-ff36-0de49eab6d8b"
   },
   "outputs": [
    {
     "name": "stdout",
     "output_type": "stream",
     "text": [
      "Selecionadas:\n",
      "************************\n",
      "['UltPercLimit', 'N_Atraso30_59Dias', 'lnRazaoGastos', 'WOE_CAT_UltPercLimit']\n",
      "['RendaMensal']\n",
      "************************\n"
     ]
    }
   ],
   "source": [
    "# Verificar as features selecionadas\n",
    "accept = X_train.columns[feat_selector.support_].to_list()\n",
    "irresolution = X_train.columns[feat_selector.support_weak_].to_list()\n",
    "\n",
    "print(\"Selecionadas:\")\n",
    "print(\"************************\")\n",
    "print(list(accept))\n",
    "print(list(irresolution))\n",
    "print(\"************************\")"
   ]
  },
  {
   "cell_type": "code",
   "execution_count": null,
   "metadata": {
    "colab": {
     "base_uri": "https://localhost:8080/"
    },
    "executionInfo": {
     "elapsed": 3,
     "status": "ok",
     "timestamp": 1654457194386,
     "user": {
      "displayName": "Wesley Furriel",
      "userId": "03516357509047911115"
     },
     "user_tz": 180
    },
    "id": "4WeSkpXO68ll",
    "outputId": "1fdb06d7-ddf6-467a-d693-940b8b40e5da"
   },
   "outputs": [],
   "source": [
    "# .support_\n",
    "result_boruta.support_"
   ]
  },
  {
   "cell_type": "code",
   "execution_count": null,
   "metadata": {
    "colab": {
     "base_uri": "https://localhost:8080/"
    },
    "executionInfo": {
     "elapsed": 308,
     "status": "ok",
     "timestamp": 1654457196044,
     "user": {
      "displayName": "Wesley Furriel",
      "userId": "03516357509047911115"
     },
     "user_tz": 180
    },
    "id": "neLnoshI68jN",
    "outputId": "7cb94fec-607d-41ff-a019-806fa74820f9"
   },
   "outputs": [],
   "source": [
    "# .ranking_ \n",
    "result_boruta.ranking_"
   ]
  },
  {
   "cell_type": "code",
   "execution_count": 49,
   "metadata": {
    "colab": {
     "base_uri": "https://localhost:8080/"
    },
    "executionInfo": {
     "elapsed": 363,
     "status": "ok",
     "timestamp": 1654455833812,
     "user": {
      "displayName": "Wesley Furriel",
      "userId": "03516357509047911115"
     },
     "user_tz": 180
    },
    "id": "4Aed_U2y68dY",
    "outputId": "7f8a3a55-f9f3-4e36-9bc3-6ffbbda4147d"
   },
   "outputs": [
    {
     "name": "stdout",
     "output_type": "stream",
     "text": [
      "Feature: UltPercLimit Rank: 1,  Manter: True\n",
      "Feature: Idade Rank: 3,  Manter: False\n",
      "Feature: N_Atraso30_59Dias Rank: 1,  Manter: True\n",
      "Feature: RazaoGastos Rank: 6,  Manter: False\n",
      "Feature: RendaMensal Rank: 2,  Manter: False\n",
      "Feature: N_EmeprestimosAbertos Rank: 10,  Manter: False\n",
      "Feature: N_atrasos_Ult90Dias Rank: 4,  Manter: False\n",
      "Feature: N_emprestimos Rank: 19,  Manter: False\n",
      "Feature: N_Atraso60_89Dias Rank: 6,  Manter: False\n",
      "Feature: N_dependentes Rank: 15,  Manter: False\n",
      "Feature: lnRazaoGastos Rank: 1,  Manter: True\n",
      "Feature: SqrtRazaoGastos Rank: 9,  Manter: False\n",
      "Feature: CAT_UltPercLimit Rank: 3,  Manter: False\n",
      "Feature: CAT_Idade Rank: 12,  Manter: False\n",
      "Feature: CAT_RazaoGastos Rank: 22,  Manter: False\n",
      "Feature: CAT_RendaMensal Rank: 16,  Manter: False\n",
      "Feature: CAT_N_EmeprestimosAbertos Rank: 17,  Manter: False\n",
      "Feature: CAT_lnRazaoGastos Rank: 23,  Manter: False\n",
      "Feature: WOE_N_atrasos_Ult90Dias Rank: 6,  Manter: False\n",
      "Feature: WOE_N_emprestimos Rank: 18,  Manter: False\n",
      "Feature: WOE_N_Atraso60_89Dias Rank: 9,  Manter: False\n",
      "Feature: WOE_N_dependentes Rank: 14,  Manter: False\n",
      "Feature: WOE_CAT_UltPercLimit Rank: 1,  Manter: True\n",
      "Feature: WOE_CAT_Idade Rank: 11,  Manter: False\n",
      "Feature: WOE_CAT_RazaoGastos Rank: 21,  Manter: False\n",
      "Feature: WOE_CAT_lnRazaoGastos Rank: 20,  Manter: False\n",
      "Feature: WOE_CAT_N_EmeprestimosAbertos Rank: 14,  Manter: False\n"
     ]
    }
   ],
   "source": [
    "feature_ranks = list(zip(X_train.columns, \n",
    "                         result_boruta.ranking_, \n",
    "                         result_boruta.support_))\n",
    "\n",
    "for feat in feature_ranks:\n",
    "    print('Feature: {} Rank: {},  Manter: {}'.format(feat[0], feat[1], feat[2]))"
   ]
  },
  {
   "cell_type": "markdown",
   "metadata": {},
   "source": [
    "### Teste 01: Todas as Variáveis"
   ]
  },
  {
   "cell_type": "code",
   "execution_count": 50,
   "metadata": {},
   "outputs": [
    {
     "data": {
      "text/plain": [
       "0.9356300997280145"
      ]
     },
     "execution_count": 50,
     "metadata": {},
     "output_type": "execute_result"
    }
   ],
   "source": [
    "rf1 = RandomForestClassifier(n_jobs=-1, class_weight = \"balanced\", bootstrap = True)\n",
    "rf1.fit(X_train,y_train)\n",
    "y_test_pred1 = rf1.predict(X_test) \n",
    "accuracy_score(y_test, y_test_pred1)"
   ]
  },
  {
   "cell_type": "markdown",
   "metadata": {},
   "source": [
    "### Teste 02: Variáveis em support_"
   ]
  },
  {
   "cell_type": "code",
   "execution_count": 52,
   "metadata": {},
   "outputs": [
    {
     "data": {
      "text/plain": [
       "0.9233907524932004"
      ]
     },
     "execution_count": 52,
     "metadata": {},
     "output_type": "execute_result"
    }
   ],
   "source": [
    "cols_select = ['UltPercLimit', 'N_Atraso30_59Dias', 'lnRazaoGastos', 'WOE_CAT_UltPercLimit']\n",
    "rf2 = RandomForestClassifier(n_jobs=-1, class_weight = \"balanced\", bootstrap = True)\n",
    "rf2.fit(X_train[cols_select],y_train)\n",
    "y_test_pred2 = rf2.predict(X_test[cols_select]) \n",
    "accuracy_score(y_test, y_test_pred2)"
   ]
  },
  {
   "cell_type": "markdown",
   "metadata": {},
   "source": [
    "### Teste 03: Variáveis em support_weak_"
   ]
  },
  {
   "cell_type": "code",
   "execution_count": 53,
   "metadata": {},
   "outputs": [
    {
     "data": {
      "text/plain": [
       "0.9347234814143246"
      ]
     },
     "execution_count": 53,
     "metadata": {},
     "output_type": "execute_result"
    }
   ],
   "source": [
    "cols_select = ['UltPercLimit', 'N_Atraso30_59Dias', 'lnRazaoGastos', 'WOE_CAT_UltPercLimit','RendaMensal']\n",
    "rf2 = RandomForestClassifier(n_jobs=-1, class_weight = \"balanced\", bootstrap = True)\n",
    "rf2.fit(X_train[cols_select],y_train)\n",
    "y_test_pred2 = rf2.predict(X_test[cols_select]) \n",
    "accuracy_score(y_test, y_test_pred2)"
   ]
  },
  {
   "cell_type": "code",
   "execution_count": null,
   "metadata": {},
   "outputs": [],
   "source": []
  }
 ],
 "metadata": {
  "colab": {
   "collapsed_sections": [],
   "name": "Boruta.ipynb",
   "provenance": []
  },
  "kernelspec": {
   "display_name": "Python 3 (ipykernel)",
   "language": "python",
   "name": "python3"
  },
  "language_info": {
   "codemirror_mode": {
    "name": "ipython",
    "version": 3
   },
   "file_extension": ".py",
   "mimetype": "text/x-python",
   "name": "python",
   "nbconvert_exporter": "python",
   "pygments_lexer": "ipython3",
   "version": "3.9.12"
  }
 },
 "nbformat": 4,
 "nbformat_minor": 4
}
