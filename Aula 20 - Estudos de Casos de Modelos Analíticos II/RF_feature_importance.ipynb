{
 "cells": [
  {
   "cell_type": "code",
   "execution_count": null,
   "metadata": {
    "id": "Vp1oHpnv3vS2"
   },
   "outputs": [],
   "source": [
    "# https://scikit-learn.org/stable/auto_examples/ensemble/plot_forest_importances.html\n",
    "# https://scikit-learn.org/stable/modules/generated/sklearn.ensemble.RandomForestClassifier.html?highlight=feature_importances_#sklearn.ensemble.RandomForestClassifier.feature_importances_"
   ]
  },
  {
   "cell_type": "markdown",
   "metadata": {
    "id": "5DOlOhqPHBfr"
   },
   "source": [
    "# Feature Importanca com Random Forest"
   ]
  },
  {
   "cell_type": "code",
   "execution_count": null,
   "metadata": {
    "executionInfo": {
     "elapsed": 11,
     "status": "ok",
     "timestamp": 1654453438679,
     "user": {
      "displayName": "Wesley Furriel",
      "userId": "03516357509047911115"
     },
     "user_tz": 180
    },
    "id": "NsCNUDHh3iEb"
   },
   "outputs": [],
   "source": [
    "import pandas as pd\n",
    "import seaborn as sns\n",
    "import matplotlib.pyplot as plt\n",
    "import numpy as np\n",
    "import sklearn\n",
    "from sklearn.model_selection import train_test_split\n",
    "from sklearn.ensemble import RandomForestClassifier"
   ]
  },
  {
   "cell_type": "code",
   "execution_count": null,
   "metadata": {
    "executionInfo": {
     "elapsed": 547,
     "status": "ok",
     "timestamp": 1654453462569,
     "user": {
      "displayName": "Wesley Furriel",
      "userId": "03516357509047911115"
     },
     "user_tz": 180
    },
    "id": "hV5bviB33iBL"
   },
   "outputs": [],
   "source": [
    "sample_behavior = pd.read_csv(\"../bases/AmostraBehavior.csv\")"
   ]
  },
  {
   "cell_type": "code",
   "execution_count": null,
   "metadata": {
    "executionInfo": {
     "elapsed": 2,
     "status": "ok",
     "timestamp": 1654453463889,
     "user": {
      "displayName": "Wesley Furriel",
      "userId": "03516357509047911115"
     },
     "user_tz": 180
    },
    "id": "kylvbfpN3h-b"
   },
   "outputs": [],
   "source": [
    "labels = sample_behavior.columns[2:len(sample_behavior.columns)]\n",
    " \n",
    "X = sample_behavior[labels] # Covariáveis\n",
    "y = sample_behavior.Perf_final # Target"
   ]
  },
  {
   "cell_type": "code",
   "execution_count": null,
   "metadata": {
    "executionInfo": {
     "elapsed": 2,
     "status": "ok",
     "timestamp": 1654453467884,
     "user": {
      "displayName": "Wesley Furriel",
      "userId": "03516357509047911115"
     },
     "user_tz": 180
    },
    "id": "6yOL1o9W3h7u"
   },
   "outputs": [],
   "source": [
    "X_train, X_test, y_train, y_test = train_test_split(X, y, test_size = 0.3, random_state = 999)"
   ]
  },
  {
   "cell_type": "markdown",
   "metadata": {
    "id": "WKPa_X9oHOaD"
   },
   "source": [
    "## Aplicando o Random Forest"
   ]
  },
  {
   "cell_type": "code",
   "execution_count": null,
   "metadata": {
    "colab": {
     "base_uri": "https://localhost:8080/"
    },
    "executionInfo": {
     "elapsed": 1631,
     "status": "ok",
     "timestamp": 1654453491927,
     "user": {
      "displayName": "Wesley Furriel",
      "userId": "03516357509047911115"
     },
     "user_tz": 180
    },
    "id": "C_VUDJxP9UbK",
    "outputId": "f9523bc8-b54d-4640-d078-d738fdbfd4bc"
   },
   "outputs": [],
   "source": [
    "forest = RandomForestClassifier(random_state=0)\n",
    "forest.fit(X_train, y_train)"
   ]
  },
  {
   "cell_type": "code",
   "execution_count": null,
   "metadata": {
    "colab": {
     "base_uri": "https://localhost:8080/"
    },
    "executionInfo": {
     "elapsed": 2,
     "status": "ok",
     "timestamp": 1654453536545,
     "user": {
      "displayName": "Wesley Furriel",
      "userId": "03516357509047911115"
     },
     "user_tz": 180
    },
    "id": "CKbyxgGR9UYc",
    "outputId": "86fa1cbe-c0e2-4f1c-ab31-16321a49abd4"
   },
   "outputs": [],
   "source": [
    "# Verificando a importância de cada Feature\n",
    "importances = forest.feature_importances_\n",
    "importances"
   ]
  },
  {
   "cell_type": "code",
   "execution_count": null,
   "metadata": {},
   "outputs": [],
   "source": [
    "#pd.DataFrame({\"variaveis\":X_train.columns,\"importancia\":forest.feature_importances_}).sort_values('importancia',ascending=False)"
   ]
  },
  {
   "cell_type": "code",
   "execution_count": null,
   "metadata": {
    "colab": {
     "base_uri": "https://localhost:8080/"
    },
    "executionInfo": {
     "elapsed": 422,
     "status": "ok",
     "timestamp": 1654453539538,
     "user": {
      "displayName": "Wesley Furriel",
      "userId": "03516357509047911115"
     },
     "user_tz": 180
    },
    "id": "nLcf3AxLDXF6",
    "outputId": "06070269-8d57-4478-e4e4-ef657e568e7c"
   },
   "outputs": [],
   "source": [
    "# As importâncias são relativas pelo total, logo somam 1\n",
    "sum(importances)"
   ]
  },
  {
   "cell_type": "markdown",
   "metadata": {
    "id": "Ycnu5UmKJWLu"
   },
   "source": [
    "property feature_importances_\n",
    "The impurity-based feature importances.\n",
    "\n",
    "The higher, the more important the feature. The importance of a feature is computed as the (normalized) total reduction of the criterion brought by that feature. It is also known as the Gini importance."
   ]
  },
  {
   "cell_type": "code",
   "execution_count": null,
   "metadata": {
    "colab": {
     "base_uri": "https://localhost:8080/",
     "height": 370
    },
    "executionInfo": {
     "elapsed": 1447,
     "status": "ok",
     "timestamp": 1654453864244,
     "user": {
      "displayName": "Wesley Furriel",
      "userId": "03516357509047911115"
     },
     "user_tz": 180
    },
    "id": "voz2t5O19UVk",
    "outputId": "4b39d1fa-88c8-4f6c-ef4d-05359ccc6753"
   },
   "outputs": [],
   "source": [
    "forest_importances = pd.Series(importances, index = X_train.columns)\n",
    "\n",
    "fig, ax = plt.subplots(figsize = (12,5))\n",
    "forest_importances.plot.bar(ax = ax)\n",
    "ax.set_ylabel(\"Feature Importance\")\n",
    "fig.tight_layout()"
   ]
  },
  {
   "cell_type": "code",
   "execution_count": null,
   "metadata": {
    "colab": {
     "base_uri": "https://localhost:8080/",
     "height": 513
    },
    "executionInfo": {
     "elapsed": 1671,
     "status": "ok",
     "timestamp": 1654453859697,
     "user": {
      "displayName": "Wesley Furriel",
      "userId": "03516357509047911115"
     },
     "user_tz": 180
    },
    "id": "A0FOJpmpBmZ4",
    "outputId": "616c151b-b311-44c6-98b6-88727b7b4458"
   },
   "outputs": [],
   "source": [
    "sorted_idx = forest.feature_importances_.argsort()\n",
    "\n",
    "fig, ax = plt.subplots(figsize = (15,7))\n",
    "bars = ax.bar(X_train.columns[sorted_idx], forest.feature_importances_[sorted_idx])\n",
    "\n",
    "# Axis formatting.\n",
    "ax.spines[\"top\"].set_visible(False)\n",
    "ax.spines[\"right\"].set_visible(False)\n",
    "ax.spines[\"left\"].set_visible(False)\n",
    "ax.spines[\"bottom\"].set_color('#DDDDDD')\n",
    "ax.tick_params(bottom=False, left=False)\n",
    "ax.set_axisbelow(True)\n",
    "ax.yaxis.grid(True, color = \"#EEEEEE\")\n",
    "ax.xaxis.grid(False)\n",
    "\n",
    "# Add text annotations to the top of the bars.\n",
    "bar_color = bars[0].get_facecolor()\n",
    "for bar in bars:\n",
    "  ax.text(\n",
    "      bar.get_x() + bar.get_width() / 2,\n",
    "      bar.get_height() + 0.005,\n",
    "      round(bar.get_height(), 2),\n",
    "      horizontalalignment = \"center\",\n",
    "      color = bar_color,\n",
    "      weight = \"bold\"\n",
    "  )\n",
    "\n",
    "ax.set_xlabel(\"Features\", labelpad=15, color='#333333')\n",
    "ax.set_ylabel(\"Feature Importance\", labelpad=15, color='#333333')\n",
    "plt.xticks(rotation = 90)\n",
    "fig.tight_layout()"
   ]
  }
 ],
 "metadata": {
  "colab": {
   "collapsed_sections": [],
   "name": "RF_feature_importance.ipynb",
   "provenance": []
  },
  "kernelspec": {
   "display_name": "Python 3 (ipykernel)",
   "language": "python",
   "name": "python3"
  },
  "language_info": {
   "codemirror_mode": {
    "name": "ipython",
    "version": 3
   },
   "file_extension": ".py",
   "mimetype": "text/x-python",
   "name": "python",
   "nbconvert_exporter": "python",
   "pygments_lexer": "ipython3",
   "version": "3.9.12"
  }
 },
 "nbformat": 4,
 "nbformat_minor": 4
}
