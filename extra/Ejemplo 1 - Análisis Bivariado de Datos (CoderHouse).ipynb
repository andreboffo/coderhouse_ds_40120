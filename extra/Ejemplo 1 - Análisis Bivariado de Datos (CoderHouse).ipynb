{
 "cells": [
  {
   "cell_type": "code",
   "execution_count": null,
   "metadata": {
    "executionInfo": {
     "elapsed": 4,
     "status": "ok",
     "timestamp": 1653849654640,
     "user": {
      "displayName": "Wesley Furriel",
      "userId": "03516357509047911115"
     },
     "user_tz": 180
    },
    "id": "_sQBjWJBHh8c"
   },
   "outputs": [],
   "source": [
    "#Importamos las librerias\n",
    "\n",
    "# Operaciones Basicas\n",
    "import numpy as np\n",
    "import pandas as pd\n",
    "import pandas_profiling\n",
    "\n",
    "# Visualizacion de Datos\n",
    "import matplotlib.pyplot as plt\n",
    "import seaborn as sns"
   ]
  },
  {
   "cell_type": "code",
   "execution_count": null,
   "metadata": {
    "colab": {
     "base_uri": "https://localhost:8080/",
     "height": 206
    },
    "executionInfo": {
     "elapsed": 653,
     "status": "ok",
     "timestamp": 1653849657530,
     "user": {
      "displayName": "Wesley Furriel",
      "userId": "03516357509047911115"
     },
     "user_tz": 180
    },
    "id": "yCblV850Hh8j",
    "outputId": "dcac5025-dedd-4abb-8d21-21b46d66539e"
   },
   "outputs": [],
   "source": [
    "#Lectura del dataframe\n",
    "data = pd.read_csv(\"../bases/heart.csv\")\n",
    "data.head()"
   ]
  },
  {
   "cell_type": "code",
   "execution_count": null,
   "metadata": {
    "id": "Q7WqrAyEHh8m",
    "outputId": "2ab04d3d-bc56-4433-b22e-4322839d187d"
   },
   "outputs": [],
   "source": [
    "#Veamos el shape\n",
    "data.shape"
   ]
  },
  {
   "cell_type": "code",
   "execution_count": null,
   "metadata": {
    "id": "PMWQpUE1Hh8p",
    "outputId": "8b991116-3a79-446f-c19d-9109a2aedd66"
   },
   "outputs": [],
   "source": [
    "#Totalidad de registros por columnas\n",
    "data.count()"
   ]
  },
  {
   "cell_type": "code",
   "execution_count": null,
   "metadata": {
    "id": "bcYoZVF3Hh8q",
    "outputId": "df8f6d97-c312-423d-d452-145788b42f46"
   },
   "outputs": [],
   "source": [
    "#Tipo de dato de cada columna\n",
    "data.dtypes"
   ]
  },
  {
   "cell_type": "code",
   "execution_count": null,
   "metadata": {
    "id": "IMPEHYvyHh8s",
    "outputId": "e08a33ae-497e-4917-a2a7-f736d658d2e3"
   },
   "outputs": [],
   "source": [
    "#Tipo de estructura del dataset\n",
    "type(data)"
   ]
  },
  {
   "cell_type": "code",
   "execution_count": null,
   "metadata": {
    "id": "FjQ2LCA5Hh8t",
    "outputId": "f5d1bc05-01a6-4e1c-9bc4-9f5ba3292b17"
   },
   "outputs": [],
   "source": [
    "#Principales medidas estadisticas\n",
    "data.describe().T"
   ]
  },
  {
   "cell_type": "code",
   "execution_count": null,
   "metadata": {
    "colab": {
     "referenced_widgets": [
      "20a51ee3c82f4a608c2d0096721e5e6c",
      "0ae18e064982400299f4b97e60181c76",
      "7e9a6789a9e2477c8b98a7627d1a93bb"
     ]
    },
    "id": "NH1Q3KDBHh8v",
    "outputId": "6b5220ef-5c10-4760-c1e1-6d23f12970c7"
   },
   "outputs": [],
   "source": [
    "#Data Profiling\n",
    "profile = pandas_profiling.ProfileReport(data)\n",
    "profile"
   ]
  },
  {
   "cell_type": "code",
   "execution_count": null,
   "metadata": {
    "id": "rDCiQ0yaHiAk",
    "outputId": "1c171a8f-3e44-4b8b-8ac5-6a4f09583229"
   },
   "outputs": [],
   "source": [
    "#Hagamos un HeatMap del df\n",
    "plt.rcParams['figure.figsize'] = (20, 15)\n",
    "\n",
    "sns.heatmap(data.corr(), annot = True, cmap = 'Wistia')\n",
    "plt.title('Heatmap for the Dataset', fontsize = 20)\n",
    "plt.show()"
   ]
  },
  {
   "cell_type": "code",
   "execution_count": null,
   "metadata": {
    "id": "sJUsTdWsHiAn",
    "outputId": "4d20b36d-5bd3-4c94-c357-95ea44185aaa"
   },
   "outputs": [],
   "source": [
    "# tresbps vs target\n",
    "plt.rcParams['figure.figsize'] = (12, 9)\n",
    "sns.boxplot(data['target'], data['trestbps'], palette = 'viridis')\n",
    "plt.title('Relación entre tresbps y target', fontsize = 20)\n",
    "plt.show()"
   ]
  },
  {
   "cell_type": "markdown",
   "metadata": {
    "id": "Q6NRWZj2HiAp"
   },
   "source": [
    "**tresbps**: presión arterial en reposo, la gráfica bivariada anterior entre tresbps (la presión arterial en reposo de un paciente) y target nos indica si el paciente padece la enfermedad cardíaca o no. La trama sugiere claramente que los pacientes que tienen más probabilidades de no sufrir la enfermedad tienen una presión arterial ligeramente mayor que los pacientes que tienen enfermedades cardíacas."
   ]
  },
  {
   "cell_type": "code",
   "execution_count": null,
   "metadata": {
    "id": "2mCHXxSsHiAs",
    "outputId": "f0e13a6b-941a-41a8-9fd3-11df46edd30c"
   },
   "outputs": [],
   "source": [
    "# cholestrol vs target\n",
    "plt.rcParams['figure.figsize'] = (12, 9)\n",
    "sns.violinplot(data['target'], data['chol'], palette = 'colorblind')\n",
    "plt.title('Relación entre Cholestrol y Target', fontsize = 20, fontweight = 30)\n",
    "plt.show()"
   ]
  },
  {
   "cell_type": "markdown",
   "metadata": {
    "id": "886Wi-U0HiAt"
   },
   "source": [
    "El gráfico bivariado anterior entre los niveles de colesterol y el objetivo, sugiere que los pacientes con probabilidades de sufrir enfermedades cardíacas tienen niveles de colesterol más altos en comparación con los pacientes con el target 0 (que probablemente no padezcan enfermedades cardíacas)."
   ]
  },
  {
   "cell_type": "code",
   "execution_count": null,
   "metadata": {
    "id": "I0csOJcJHiAu",
    "outputId": "d4e53499-f040-45bf-cc44-3fd9fe7c375a"
   },
   "outputs": [],
   "source": [
    "# Relacion entre sex and target\n",
    "sns.boxenplot(data['target'], data['sex'], palette = 'Set3')\n",
    "plt.title('Relacion entre Sex and target', fontsize = 20, fontweight = 30)\n",
    "plt.show()\n",
    "\n",
    "#https://seaborn.pydata.org/generated/seaborn.boxenplot.html"
   ]
  },
  {
   "cell_type": "code",
   "execution_count": null,
   "metadata": {
    "id": "MdVLqAfhHiAv",
    "outputId": "ee80a8ee-1ab1-4012-8cc1-57dd00aa7020"
   },
   "outputs": [],
   "source": [
    "#Age vs chol\n",
    "sns.scatterplot(x=\"age\", y=\"chol\", data=data)\n",
    "plt.title('Relacion entre Sex and target', fontsize = 20, fontweight = 30)"
   ]
  },
  {
   "cell_type": "markdown",
   "metadata": {
    "id": "96S7L--BHiAw"
   },
   "source": [
    "Efectivamente se observa una relación entre la edad y la variable colesterol de tipo positiva, esto significa que a mayor edad también se ve incrementado el colesterol de las personas."
   ]
  }
 ],
 "metadata": {
  "colab": {
   "name": "Ejemplo 1 - Análisis Bivariado de Datos (CoderHouse).ipynb",
   "provenance": []
  },
  "kernelspec": {
   "display_name": "Python 3 (ipykernel)",
   "language": "python",
   "name": "python3"
  },
  "language_info": {
   "codemirror_mode": {
    "name": "ipython",
    "version": 3
   },
   "file_extension": ".py",
   "mimetype": "text/x-python",
   "name": "python",
   "nbconvert_exporter": "python",
   "pygments_lexer": "ipython3",
   "version": "3.9.12"
  },
  "varInspector": {
   "cols": {
    "lenName": 16,
    "lenType": 16,
    "lenVar": 40
   },
   "kernels_config": {
    "python": {
     "delete_cmd_postfix": "",
     "delete_cmd_prefix": "del ",
     "library": "var_list.py",
     "varRefreshCmd": "print(var_dic_list())"
    },
    "r": {
     "delete_cmd_postfix": ") ",
     "delete_cmd_prefix": "rm(",
     "library": "var_list.r",
     "varRefreshCmd": "cat(var_dic_list()) "
    }
   },
   "types_to_exclude": [
    "module",
    "function",
    "builtin_function_or_method",
    "instance",
    "_Feature"
   ],
   "window_display": false
  }
 },
 "nbformat": 4,
 "nbformat_minor": 4
}
