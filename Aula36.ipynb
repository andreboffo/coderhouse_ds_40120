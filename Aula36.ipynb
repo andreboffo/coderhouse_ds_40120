{
 "cells": [
  {
   "cell_type": "markdown",
   "metadata": {
    "id": "Nw6dacOWc4sT"
   },
   "source": [
    "\n",
    "## Workshop Python "
   ]
  },
  {
   "cell_type": "markdown",
   "metadata": {
    "id": "gB4pA5ZAdOMK"
   },
   "source": [
    "Nesta primeira intervenção, vamos trabalhar com os seguintes pacotes:\n",
    "\n",
    "* Pandas.\n",
    "* Seaborn.\n",
    "* Matplotlib"
   ]
  },
  {
   "cell_type": "code",
   "execution_count": null,
   "metadata": {
    "executionInfo": {
     "elapsed": 3010,
     "status": "ok",
     "timestamp": 1670456164183,
     "user": {
      "displayName": "Wesley Furriel",
      "userId": "03516357509047911115"
     },
     "user_tz": 180
    },
    "id": "_uBK2kfSvUJC"
   },
   "outputs": [],
   "source": [
    "import pandas as pd\n",
    "import seaborn as sns\n",
    "import matplotlib.pyplot as plt"
   ]
  },
  {
   "cell_type": "markdown",
   "metadata": {
    "id": "vm2Aj8KhvbgJ"
   },
   "source": [
    "O dataset que utilizaremos é denominado \"tips\" e contém os dados que um garçom registrou sobre cada gorjeta que recebeu durante um período de alguns meses trabalhando em um restaurante. Podemos encontrar o link para o dataset em um repositório público no GitHub.\n",
    "\n",
    "Link: 'https://raw.githubusercontent.com/mwaskom/seaborn-data/master/tips.csv'"
   ]
  },
  {
   "cell_type": "markdown",
   "metadata": {
    "id": "cEn-KtafNIoD"
   },
   "source": [
    "1. Vamos importar o arquivo"
   ]
  },
  {
   "cell_type": "code",
   "execution_count": null,
   "metadata": {
    "executionInfo": {
     "elapsed": 2,
     "status": "ok",
     "timestamp": 1670456164590,
     "user": {
      "displayName": "Wesley Furriel",
      "userId": "03516357509047911115"
     },
     "user_tz": 180
    },
    "id": "M__GmUsHNIoE"
   },
   "outputs": [],
   "source": [
    "df = pd.read_csv('https://raw.githubusercontent.com/mwaskom/seaborn-data/master/tips.csv')"
   ]
  },
  {
   "cell_type": "markdown",
   "metadata": {
    "id": "jW6nCVrnjbu_"
   },
   "source": [
    "2. Visualizar o dataframe"
   ]
  },
  {
   "cell_type": "code",
   "execution_count": null,
   "metadata": {
    "colab": {
     "base_uri": "https://localhost:8080/",
     "height": 206
    },
    "executionInfo": {
     "elapsed": 319,
     "status": "ok",
     "timestamp": 1670454243302,
     "user": {
      "displayName": "Victor Brito",
      "userId": "01888560201874378316"
     },
     "user_tz": 180
    },
    "id": "mK3ynBfJjjyq",
    "outputId": "bde8164b-6230-4683-8ab9-0497a5340484"
   },
   "outputs": [],
   "source": [
    "df.head()"
   ]
  },
  {
   "cell_type": "markdown",
   "metadata": {
    "id": "2DVgvCG6vf-9"
   },
   "source": [
    "3. Gerar algumas estatísticas describe()."
   ]
  },
  {
   "cell_type": "code",
   "execution_count": null,
   "metadata": {
    "colab": {
     "base_uri": "https://localhost:8080/",
     "height": 300
    },
    "executionInfo": {
     "elapsed": 7,
     "status": "ok",
     "timestamp": 1670430031528,
     "user": {
      "displayName": "Wesley Furriel",
      "userId": "03516357509047911115"
     },
     "user_tz": 180
    },
    "id": "rFzOfJN2vi7v",
    "outputId": "5a9e1417-bc44-4ef7-cf94-56573d669046"
   },
   "outputs": [],
   "source": [
    "df.describe()"
   ]
  },
  {
   "cell_type": "markdown",
   "metadata": {
    "id": "m3PpwcPyKu4E"
   },
   "source": [
    "4. Avalitar as dimensões da base"
   ]
  },
  {
   "cell_type": "code",
   "execution_count": null,
   "metadata": {
    "colab": {
     "base_uri": "https://localhost:8080/"
    },
    "executionInfo": {
     "elapsed": 3,
     "status": "ok",
     "timestamp": 1670430033866,
     "user": {
      "displayName": "Wesley Furriel",
      "userId": "03516357509047911115"
     },
     "user_tz": 180
    },
    "id": "sVx-uBBoK4oP",
    "outputId": "4985f1ba-c343-4792-ce2c-0f0e05b29a05"
   },
   "outputs": [],
   "source": [
    "df.shape"
   ]
  },
  {
   "cell_type": "markdown",
   "metadata": {
    "id": "ikK1xAmEv9xu"
   },
   "source": [
    "# Scatter plot\n",
    "-------------\n",
    "5. Criar um scatterplot entre x = 'total_bill', y = 'tip'\n"
   ]
  },
  {
   "cell_type": "code",
   "execution_count": null,
   "metadata": {
    "colab": {
     "base_uri": "https://localhost:8080/",
     "height": 280
    },
    "executionInfo": {
     "elapsed": 1541,
     "status": "ok",
     "timestamp": 1670430037614,
     "user": {
      "displayName": "Wesley Furriel",
      "userId": "03516357509047911115"
     },
     "user_tz": 180
    },
    "id": "z-AYUDI1v289",
    "outputId": "3777f30b-17d6-4bd5-d7b3-b198565cfc5c"
   },
   "outputs": [],
   "source": [
    "sns.scatterplot(x = 'total_bill', y = 'tip', data = df)\n",
    "plt.show()"
   ]
  },
  {
   "cell_type": "markdown",
   "metadata": {
    "id": "IhUkPO6Vn7oG"
   },
   "source": [
    "6. Modificar o tamanho do plot por largura = 20, altura= 10."
   ]
  },
  {
   "cell_type": "code",
   "execution_count": null,
   "metadata": {
    "colab": {
     "base_uri": "https://localhost:8080/",
     "height": 606
    },
    "executionInfo": {
     "elapsed": 696,
     "status": "ok",
     "timestamp": 1670430040918,
     "user": {
      "displayName": "Wesley Furriel",
      "userId": "03516357509047911115"
     },
     "user_tz": 180
    },
    "id": "Y0ywbPv8wxFc",
    "outputId": "b4c58e28-0aee-4f1b-c1fd-8b91331c83f7"
   },
   "outputs": [],
   "source": [
    "plt.figure(figsize = (20, 10))\n",
    "sns.scatterplot(x = 'total_bill', y = 'tip', data = df)\n",
    "plt.show()"
   ]
  },
  {
   "cell_type": "markdown",
   "metadata": {
    "id": "wUOyKf6yxJBV"
   },
   "source": [
    "7. Altere a cor padrão do gráfico para verde"
   ]
  },
  {
   "cell_type": "code",
   "execution_count": null,
   "metadata": {
    "colab": {
     "base_uri": "https://localhost:8080/",
     "height": 335
    },
    "executionInfo": {
     "elapsed": 484,
     "status": "ok",
     "timestamp": 1670430045528,
     "user": {
      "displayName": "Wesley Furriel",
      "userId": "03516357509047911115"
     },
     "user_tz": 180
    },
    "id": "ZtwdiWcrxJsp",
    "outputId": "616e28e4-4c8c-418c-8847-23715db15d07"
   },
   "outputs": [],
   "source": [
    "plt.figure(figsize=(10,8))\n",
    "sns.scatterplot(x='total_bill',y='tip',data=df,color='green')\n",
    "plt.show()"
   ]
  },
  {
   "cell_type": "markdown",
   "metadata": {
    "id": "hqtVfoFgxP43"
   },
   "source": [
    "8. Atribua uma cor com base na variável \"sexo\". Dica: Você tem que usar o atributo -hue"
   ]
  },
  {
   "cell_type": "code",
   "execution_count": null,
   "metadata": {
    "colab": {
     "base_uri": "https://localhost:8080/",
     "height": 335
    },
    "executionInfo": {
     "elapsed": 901,
     "status": "ok",
     "timestamp": 1670430050329,
     "user": {
      "displayName": "Wesley Furriel",
      "userId": "03516357509047911115"
     },
     "user_tz": 180
    },
    "id": "g_hJjeCuxYRo",
    "outputId": "4f00026c-a16d-4af5-d773-288b4b5ebcbf"
   },
   "outputs": [],
   "source": [
    "plt.figure(figsize=(10,5))\n",
    "sns.scatterplot(x='total_bill',y='tip',data=df,hue='sex')\n",
    "plt.show()"
   ]
  },
  {
   "cell_type": "markdown",
   "metadata": {
    "id": "pQs5Q-7YxdP5"
   },
   "source": [
    "9. Atribua uma forma diferente a cada ponto com base nos valores da variável denominada \"fumante\". Dica: Você tem que usar o atributo -style"
   ]
  },
  {
   "cell_type": "code",
   "execution_count": null,
   "metadata": {
    "colab": {
     "base_uri": "https://localhost:8080/",
     "height": 335
    },
    "executionInfo": {
     "elapsed": 562,
     "status": "ok",
     "timestamp": 1670430055003,
     "user": {
      "displayName": "Wesley Furriel",
      "userId": "03516357509047911115"
     },
     "user_tz": 180
    },
    "id": "di7WTiW6xqXX",
    "outputId": "7685f61d-ec96-4ae1-b7e2-7709d5091f27"
   },
   "outputs": [],
   "source": [
    "plt.figure(figsize=(10,5))\n",
    "sns.scatterplot(x='total_bill', y='tip', data=df, hue='sex', style='smoker')\n",
    "plt.show()"
   ]
  },
  {
   "cell_type": "markdown",
   "metadata": {
    "id": "AWW5VJQezQB5"
   },
   "source": [
    "10. Adicione os seguintes rótulos ao nosso gráfico:\n",
    "\n",
    "* Título: \"Quantidade de Ingressos x Gorjetas\"\n",
    "* Eixo x: \"Valor do Bilhete\"\n",
    "* eixo y: \"Dicas\"\n"
   ]
  },
  {
   "cell_type": "code",
   "execution_count": null,
   "metadata": {
    "colab": {
     "base_uri": "https://localhost:8080/",
     "height": 373
    },
    "executionInfo": {
     "elapsed": 1447,
     "status": "ok",
     "timestamp": 1670456224913,
     "user": {
      "displayName": "Wesley Furriel",
      "userId": "03516357509047911115"
     },
     "user_tz": 180
    },
    "id": "a-qgP7uM0BHH",
    "outputId": "4d8b0106-6cab-4b78-84c1-17260a3d988a"
   },
   "outputs": [],
   "source": [
    "p={'Female':'blue','Male':'green'}\n",
    "\n",
    "plt.figure(figsize=(20,5))\n",
    "sns.scatterplot(x='total_bill', y = 'tip',data = df, hue = 'sex', style = 'smoker', \n",
    "                s = 200, alpha = 0.5, palette = p, legend=\"full\")\n",
    "plt.xlabel('Valor da conta ')\n",
    "plt.ylabel('Gorgeta')\n",
    "plt.title('Valor da Conta vs Gorjetas',fontsize=20)"
   ]
  },
  {
   "cell_type": "markdown",
   "metadata": {
    "id": "L_mZtgvE95vJ"
   },
   "source": [
    "# Distplot\n",
    "\n",
    "1. Gere um histograma para a variável total_bill"
   ]
  },
  {
   "cell_type": "code",
   "execution_count": null,
   "metadata": {
    "colab": {
     "base_uri": "https://localhost:8080/",
     "height": 407
    },
    "executionInfo": {
     "elapsed": 325,
     "status": "ok",
     "timestamp": 1670456236933,
     "user": {
      "displayName": "Wesley Furriel",
      "userId": "03516357509047911115"
     },
     "user_tz": 180
    },
    "id": "jr26nrTk9481",
    "outputId": "28571746-eaab-4b00-c1d9-9f4996054a3c"
   },
   "outputs": [],
   "source": [
    "plt.figure(figsize=(20,5))\n",
    "\n",
    "sns.displot(df.total_bill, kde=True, kind='hist', bins=15)\n",
    "plt.xlabel('Total bill')\n",
    "plt.ylabel('Frecuencia')\n",
    "plt.title('Distribución de total_bill')\n",
    "\n",
    "plt.show()"
   ]
  },
  {
   "cell_type": "markdown",
   "metadata": {
    "id": "yBu0zMpX_hCZ"
   },
   "source": [
    "2. Compare no mesmo gráfico as distribuições de total_bill e tip\n"
   ]
  },
  {
   "cell_type": "code",
   "execution_count": null,
   "metadata": {
    "colab": {
     "base_uri": "https://localhost:8080/",
     "height": 339
    },
    "executionInfo": {
     "elapsed": 1068,
     "status": "ok",
     "timestamp": 1670457025740,
     "user": {
      "displayName": "Wesley Furriel",
      "userId": "03516357509047911115"
     },
     "user_tz": 180
    },
    "id": "yrvjhwi5-p72",
    "outputId": "74f6eb05-7bbe-4cef-a117-c7c8e961f344"
   },
   "outputs": [],
   "source": [
    "sns.set(style=\"darkgrid\")\n",
    "\n",
    "fig = plt.figure(figsize=(20,5))\n",
    "\n",
    "fig = sns.kdeplot(df['total_bill'], fill=True, color=\"r\")\n",
    "fig = sns.kdeplot(df['tip'], fill=True, color=\"b\")\n",
    "plt.show()"
   ]
  },
  {
   "cell_type": "markdown",
   "metadata": {
    "id": "HLlj0enjKNMy"
   },
   "source": [
    "# Barplot\n",
    "\n",
    "1. Gere um gráfico de barras onde a variável dia está no eixo x"
   ]
  },
  {
   "cell_type": "code",
   "execution_count": null,
   "metadata": {
    "colab": {
     "base_uri": "https://localhost:8080/",
     "height": 339
    },
    "executionInfo": {
     "elapsed": 400,
     "status": "ok",
     "timestamp": 1670457907833,
     "user": {
      "displayName": "Wesley Furriel",
      "userId": "03516357509047911115"
     },
     "user_tz": 180
    },
    "id": "KRYEKUKCdN4p",
    "outputId": "b3ed15ea-f783-48e2-ce2c-de79df280e89"
   },
   "outputs": [],
   "source": [
    "plt.figure(figsize=(20,5))\n",
    "sns.countplot(x = 'day', data = df, color = \"black\")\n",
    "plt.show()"
   ]
  },
  {
   "cell_type": "markdown",
   "metadata": {
    "id": "ya08l8sUOd_p"
   },
   "source": [
    "2. Modifique o gráfico acima fazendo o eixo y agora day."
   ]
  },
  {
   "cell_type": "code",
   "execution_count": null,
   "metadata": {
    "colab": {
     "base_uri": "https://localhost:8080/",
     "height": 339
    },
    "executionInfo": {
     "elapsed": 730,
     "status": "ok",
     "timestamp": 1670457930319,
     "user": {
      "displayName": "Wesley Furriel",
      "userId": "03516357509047911115"
     },
     "user_tz": 180
    },
    "id": "-T2B2WQEOAVj",
    "outputId": "ef048b98-7de3-4d5b-c280-297a3b6c0f40"
   },
   "outputs": [],
   "source": [
    "plt.figure(figsize=(20,5))\n",
    "sns.countplot(y ='day',data = df, color = \"black\")\n",
    "plt.show()"
   ]
  },
  {
   "cell_type": "markdown",
   "metadata": {
    "id": "fAHHDv4mRzVx"
   },
   "source": [
    "# Boxplot\n",
    "\n",
    "1. Gere um boxplot onde x = dia e y = total_bill, atribua as seguintes cores:\n",
    "\n",
    "*   #008B8B\n",
    "*   #00FFFF"
   ]
  },
  {
   "cell_type": "code",
   "execution_count": null,
   "metadata": {
    "colab": {
     "base_uri": "https://localhost:8080/",
     "height": 339
    },
    "executionInfo": {
     "elapsed": 290,
     "status": "ok",
     "timestamp": 1670458387383,
     "user": {
      "displayName": "Wesley Furriel",
      "userId": "03516357509047911115"
     },
     "user_tz": 180
    },
    "id": "rAJbzs4SP105",
    "outputId": "f5f20f7a-5a80-4042-830b-e7dfa0ee4c9b"
   },
   "outputs": [],
   "source": [
    "plt.figure(figsize=(20,5))\n",
    "sns.boxplot(x = 'day',y = \"total_bill\", data = df, palette = ['#008B8B','#00FFFF'])\n",
    "plt.show()"
   ]
  },
  {
   "cell_type": "markdown",
   "metadata": {
    "id": "yJ0AIlS4KcAX"
   },
   "source": [
    "3. Adicionamos a variável \"sexo\". Dica: Você tem que usar -hue"
   ]
  },
  {
   "cell_type": "code",
   "execution_count": null,
   "metadata": {
    "colab": {
     "base_uri": "https://localhost:8080/",
     "height": 339
    },
    "executionInfo": {
     "elapsed": 719,
     "status": "ok",
     "timestamp": 1670457064249,
     "user": {
      "displayName": "Wesley Furriel",
      "userId": "03516357509047911115"
     },
     "user_tz": 180
    },
    "id": "GCrL2kVpMIGX",
    "outputId": "d40af35e-061a-40a4-d47a-d108bf608956"
   },
   "outputs": [],
   "source": [
    "plt.figure(figsize=(20,5))\n",
    "sns.boxplot(x = 'day', y = \"total_bill\", data = df, hue = 'sex', palette = ['#008B8B','#00FFFF'])\n",
    "plt.show()"
   ]
  },
  {
   "cell_type": "markdown",
   "metadata": {
    "id": "Z6WPyrHpOrPO"
   },
   "source": [
    "# ViolinPlot\n",
    "\n",
    "Crie um gráfico de violino onde x = dia e y = total_bill, atribua as mesmas cores usadas no boxplot."
   ]
  },
  {
   "cell_type": "code",
   "execution_count": null,
   "metadata": {
    "colab": {
     "base_uri": "https://localhost:8080/",
     "height": 334
    },
    "executionInfo": {
     "elapsed": 667,
     "status": "ok",
     "timestamp": 1670456377237,
     "user": {
      "displayName": "Wesley Furriel",
      "userId": "03516357509047911115"
     },
     "user_tz": 180
    },
    "id": "6eILFRG3Oqna",
    "outputId": "2dc9570d-c69a-4766-94c2-e2be1f8e77fc"
   },
   "outputs": [],
   "source": [
    "plt.figure(figsize=(20,5))\n",
    "sns.violinplot(x='day', y = \"total_bill\", data = df, hue = 'sex', palette = ['#008B8B','#00FFFF'])\n",
    "plt.show()"
   ]
  },
  {
   "cell_type": "markdown",
   "metadata": {
    "id": "z01f8UE_LB4Z"
   },
   "source": [
    "En esta sección del workshop acudiremos a la librería **Plotly** para la creación de gráficos interactivos. \n",
    "\n",
    "1.Importar el paquete plotly.express"
   ]
  },
  {
   "cell_type": "code",
   "execution_count": null,
   "metadata": {
    "executionInfo": {
     "elapsed": 1538,
     "status": "ok",
     "timestamp": 1670456387048,
     "user": {
      "displayName": "Wesley Furriel",
      "userId": "03516357509047911115"
     },
     "user_tz": 180
    },
    "id": "JMJL-XNyU4nE"
   },
   "outputs": [],
   "source": [
    "import plotly.express as px"
   ]
  },
  {
   "cell_type": "markdown",
   "metadata": {
    "id": "LHqBf0zzH3zA"
   },
   "source": [
    "-----------------------------\n",
    "# Scatterplot com Plotly\n",
    "\n",
    "1. Gere um gráfico de dispersão em que o eixo x é \"total_bill\" e o eixo y é \"ponta\""
   ]
  },
  {
   "cell_type": "code",
   "execution_count": null,
   "metadata": {
    "colab": {
     "base_uri": "https://localhost:8080/",
     "height": 542
    },
    "executionInfo": {
     "elapsed": 1466,
     "status": "ok",
     "timestamp": 1670456389439,
     "user": {
      "displayName": "Wesley Furriel",
      "userId": "03516357509047911115"
     },
     "user_tz": 180
    },
    "id": "Ke1-t0KkTb_k",
    "outputId": "0f0d9a41-682a-48ef-b97f-1a2d2f3a5d30"
   },
   "outputs": [],
   "source": [
    "fig = px.scatter(df, x = \"total_bill\", y = \"tip\")\n",
    "fig.show()"
   ]
  },
  {
   "cell_type": "markdown",
   "metadata": {
    "id": "uu7aRXK2Gy5M"
   },
   "source": [
    "2. Atribua as cores com base na variável \"day\""
   ]
  },
  {
   "cell_type": "code",
   "execution_count": null,
   "metadata": {
    "colab": {
     "base_uri": "https://localhost:8080/",
     "height": 542
    },
    "executionInfo": {
     "elapsed": 296,
     "status": "ok",
     "timestamp": 1670456396854,
     "user": {
      "displayName": "Wesley Furriel",
      "userId": "03516357509047911115"
     },
     "user_tz": 180
    },
    "id": "f4eWnRfwWQLd",
    "outputId": "c6af051f-ee84-416c-dc83-f8fa3018335d"
   },
   "outputs": [],
   "source": [
    "fig = px.scatter(df, x=\"total_bill\", y=\"tip\",color='day')\n",
    "fig.show()"
   ]
  },
  {
   "cell_type": "markdown",
   "metadata": {
    "id": "eUpqEsECG6vX"
   },
   "source": [
    "3. Modifique o tamanho dos pontos com base na variável \"size\""
   ]
  },
  {
   "cell_type": "code",
   "execution_count": null,
   "metadata": {
    "colab": {
     "base_uri": "https://localhost:8080/",
     "height": 542
    },
    "executionInfo": {
     "elapsed": 286,
     "status": "ok",
     "timestamp": 1670430168062,
     "user": {
      "displayName": "Wesley Furriel",
      "userId": "03516357509047911115"
     },
     "user_tz": 180
    },
    "id": "m8-bVDfKWbQh",
    "outputId": "80b76df3-9f7f-4537-cd96-8b3da17e9e09"
   },
   "outputs": [],
   "source": [
    "fig = px.scatter(df, x=\"total_bill\", y=\"tip\",color='day',size='size')\n",
    "fig.show()"
   ]
  },
  {
   "cell_type": "markdown",
   "metadata": {
    "id": "zoE54rziHLE3"
   },
   "source": [
    ":4. Generar un scatter plot en 3d donde la variable **\"x\"** es \"total_bill\", la variable **\"y\"** es \"tip\" y la variable **\"z\"** es \"size\""
   ]
  },
  {
   "cell_type": "code",
   "execution_count": null,
   "metadata": {
    "colab": {
     "base_uri": "https://localhost:8080/",
     "height": 542
    },
    "executionInfo": {
     "elapsed": 284,
     "status": "ok",
     "timestamp": 1670430175272,
     "user": {
      "displayName": "Wesley Furriel",
      "userId": "03516357509047911115"
     },
     "user_tz": 180
    },
    "id": "_ff_E0BFT2Yi",
    "outputId": "715b8631-8b53-4452-ea09-bd8344a3f5c0"
   },
   "outputs": [],
   "source": [
    "fig = px.scatter_3d(df, x=\"total_bill\", y=\"tip\",z='size')\n",
    "fig.show()"
   ]
  },
  {
   "cell_type": "markdown",
   "metadata": {
    "id": "QYX5dylVHfjn"
   },
   "source": [
    "5. Modifique o gráfico anterior e atribua uma cor com base na variável \"day\""
   ]
  },
  {
   "cell_type": "code",
   "execution_count": null,
   "metadata": {
    "colab": {
     "base_uri": "https://localhost:8080/",
     "height": 542
    },
    "executionInfo": {
     "elapsed": 272,
     "status": "ok",
     "timestamp": 1670430187246,
     "user": {
      "displayName": "Wesley Furriel",
      "userId": "03516357509047911115"
     },
     "user_tz": 180
    },
    "id": "uJtU9nt4Ujeu",
    "outputId": "6d2b5a17-8c0a-499b-a9f4-3a41e0b6bd1b"
   },
   "outputs": [],
   "source": [
    "fig = px.scatter_3d(df, x=\"size\", y=\"tip\",z='total_bill',color='day')\n",
    "fig.show()"
   ]
  },
  {
   "cell_type": "markdown",
   "metadata": {
    "id": "vkLup1EhIV4z"
   },
   "source": [
    "# Violin Plot\n",
    "\n",
    "Generar un box plot donde el eje x es \"smoker\" y el eje y es \"total_bill\""
   ]
  },
  {
   "cell_type": "code",
   "execution_count": null,
   "metadata": {
    "colab": {
     "base_uri": "https://localhost:8080/",
     "height": 542
    },
    "executionInfo": {
     "elapsed": 288,
     "status": "ok",
     "timestamp": 1670430201761,
     "user": {
      "displayName": "Wesley Furriel",
      "userId": "03516357509047911115"
     },
     "user_tz": 180
    },
    "id": "HRtgH3UIUjt0",
    "outputId": "dced472a-ed3d-4542-b65c-265b6b342bb5"
   },
   "outputs": [],
   "source": [
    "fig = px.violin(df, x=\"smoker\", y=\"total_bill\", box = True)\n",
    "fig.show()"
   ]
  },
  {
   "cell_type": "markdown",
   "metadata": {
    "id": "6z32k-gFIeRp"
   },
   "source": [
    "# Pie Plot\n",
    "\n",
    "1. Crear un pie plot en base a names=\"smoker\",values='total_bill'"
   ]
  },
  {
   "cell_type": "code",
   "execution_count": null,
   "metadata": {
    "colab": {
     "base_uri": "https://localhost:8080/",
     "height": 542
    },
    "executionInfo": {
     "elapsed": 285,
     "status": "ok",
     "timestamp": 1670430211472,
     "user": {
      "displayName": "Wesley Furriel",
      "userId": "03516357509047911115"
     },
     "user_tz": 180
    },
    "id": "9BtdHiSvaHf-",
    "outputId": "85bc7851-0a67-43c1-f04d-80bc843ae495"
   },
   "outputs": [],
   "source": [
    "fig = px.pie(df, names=\"smoker\",values='total_bill')\n",
    "fig.show()"
   ]
  },
  {
   "cell_type": "markdown",
   "metadata": {
    "id": "XXBARZnpZm4S"
   },
   "source": [
    "2. Crear un pie plot en base a names=\"day\",values='tip'"
   ]
  },
  {
   "cell_type": "code",
   "execution_count": null,
   "metadata": {
    "colab": {
     "base_uri": "https://localhost:8080/",
     "height": 542
    },
    "executionInfo": {
     "elapsed": 278,
     "status": "ok",
     "timestamp": 1670430234512,
     "user": {
      "displayName": "Wesley Furriel",
      "userId": "03516357509047911115"
     },
     "user_tz": 180
    },
    "id": "fwTb6JbONIoT",
    "outputId": "9e94ce64-b8b5-4f8e-e389-0eec15dc926e"
   },
   "outputs": [],
   "source": [
    "fig = px.pie(df, names=\"day\",values='tip',hole=0.4)\n",
    "fig.show()"
   ]
  },
  {
   "cell_type": "markdown",
   "metadata": {
    "id": "LHy3o_LwHpAa"
   },
   "source": [
    "# Box\n",
    "\n",
    "Generar un box plot donde el eje x = day y el eje y = total_bill"
   ]
  },
  {
   "cell_type": "code",
   "execution_count": null,
   "metadata": {
    "colab": {
     "base_uri": "https://localhost:8080/",
     "height": 542
    },
    "executionInfo": {
     "elapsed": 366,
     "status": "ok",
     "timestamp": 1670430259035,
     "user": {
      "displayName": "Wesley Furriel",
      "userId": "03516357509047911115"
     },
     "user_tz": 180
    },
    "id": "32V5IfdxUjmD",
    "outputId": "f6bf2fa9-0fed-467b-883c-14bbc158ab47"
   },
   "outputs": [],
   "source": [
    "fig = px.box(df, x=\"day\", y=\"total_bill\")\n",
    "fig.show()"
   ]
  },
  {
   "cell_type": "code",
   "execution_count": null,
   "metadata": {},
   "outputs": [],
   "source": []
  }
 ],
 "metadata": {
  "colab": {
   "provenance": []
  },
  "kernelspec": {
   "display_name": "Python 3 (ipykernel)",
   "language": "python",
   "name": "python3"
  },
  "language_info": {
   "codemirror_mode": {
    "name": "ipython",
    "version": 3
   },
   "file_extension": ".py",
   "mimetype": "text/x-python",
   "name": "python",
   "nbconvert_exporter": "python",
   "pygments_lexer": "ipython3",
   "version": "3.9.12"
  },
  "varInspector": {
   "cols": {
    "lenName": 16,
    "lenType": 16,
    "lenVar": 40
   },
   "kernels_config": {
    "python": {
     "delete_cmd_postfix": "",
     "delete_cmd_prefix": "del ",
     "library": "var_list.py",
     "varRefreshCmd": "print(var_dic_list())"
    },
    "r": {
     "delete_cmd_postfix": ") ",
     "delete_cmd_prefix": "rm(",
     "library": "var_list.r",
     "varRefreshCmd": "cat(var_dic_list()) "
    }
   },
   "types_to_exclude": [
    "module",
    "function",
    "builtin_function_or_method",
    "instance",
    "_Feature"
   ],
   "window_display": false
  }
 },
 "nbformat": 4,
 "nbformat_minor": 4
}
