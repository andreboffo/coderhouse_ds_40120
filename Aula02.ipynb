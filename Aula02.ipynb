{
 "cells": [
  {
   "cell_type": "markdown",
   "id": "e35a3258-cedb-4553-b378-8e706088f83f",
   "metadata": {},
   "source": [
    "<hr> \n",
    "<hr>\n",
    "\n",
    "# Introdução à programação com Python (Parte I)\n",
    "\n",
    "\n",
    "Atalhos\n",
    " - Esc + m celula de texto\n",
    " - Esc + y celula de codigo\n",
    " - Esc + b adiciona uma celula \n",
    " - Esc + x deletar celula\n",
    " - Shift + Enter Run\n",
    " "
   ]
  },
  {
   "cell_type": "code",
   "execution_count": 8,
   "id": "08da6d91-e809-4cec-be5e-375117205319",
   "metadata": {},
   "outputs": [
    {
     "data": {
      "text/plain": [
       "5"
      ]
     },
     "execution_count": 8,
     "metadata": {},
     "output_type": "execute_result"
    }
   ],
   "source": [
    "x = 2\n",
    "y = 3\n",
    "z = x + y\n",
    "z"
   ]
  },
  {
   "cell_type": "code",
   "execution_count": 10,
   "id": "6b5e3130-5fa9-405a-917b-bc231033e5e9",
   "metadata": {},
   "outputs": [
    {
     "data": {
      "text/plain": [
       "True"
      ]
     },
     "execution_count": 10,
     "metadata": {},
     "output_type": "execute_result"
    }
   ],
   "source": [
    "x = 2.0\n",
    "x.is_integer()"
   ]
  },
  {
   "cell_type": "code",
   "execution_count": 11,
   "id": "5df7926f-3bbe-43a6-8ccd-67ac89fc6242",
   "metadata": {},
   "outputs": [
    {
     "data": {
      "text/plain": [
       "2.0"
      ]
     },
     "execution_count": 11,
     "metadata": {},
     "output_type": "execute_result"
    }
   ],
   "source": [
    "x.real"
   ]
  },
  {
   "cell_type": "code",
   "execution_count": 12,
   "id": "b019a234-4401-40a8-8138-6cd3d30e6bbb",
   "metadata": {},
   "outputs": [
    {
     "data": {
      "text/plain": [
       "0.0"
      ]
     },
     "execution_count": 12,
     "metadata": {},
     "output_type": "execute_result"
    }
   ],
   "source": [
    "x.imag"
   ]
  },
  {
   "cell_type": "code",
   "execution_count": 15,
   "id": "6a0f48c1-fe9b-48a4-b200-fe2412c6f627",
   "metadata": {},
   "outputs": [
    {
     "data": {
      "text/plain": [
       "float"
      ]
     },
     "execution_count": 15,
     "metadata": {},
     "output_type": "execute_result"
    }
   ],
   "source": [
    "x = 2.0\n",
    "type(x)"
   ]
  },
  {
   "cell_type": "code",
   "execution_count": 16,
   "id": "c02705f8-e146-4ad8-9358-b35e3502adcf",
   "metadata": {},
   "outputs": [
    {
     "data": {
      "text/plain": [
       "int"
      ]
     },
     "execution_count": 16,
     "metadata": {},
     "output_type": "execute_result"
    }
   ],
   "source": [
    "x = 2\n",
    "type(x)"
   ]
  },
  {
   "cell_type": "code",
   "execution_count": 17,
   "id": "1eca518b-e4ff-4eea-af53-143015d248b3",
   "metadata": {},
   "outputs": [
    {
     "data": {
      "text/plain": [
       "'Olá'"
      ]
     },
     "execution_count": 17,
     "metadata": {},
     "output_type": "execute_result"
    }
   ],
   "source": [
    "s = 'Olá'\n",
    "s"
   ]
  },
  {
   "cell_type": "code",
   "execution_count": 18,
   "id": "50c328c2-e237-4cec-b300-6d3390ed62a0",
   "metadata": {},
   "outputs": [
    {
     "data": {
      "text/plain": [
       "'Olá'"
      ]
     },
     "execution_count": 18,
     "metadata": {},
     "output_type": "execute_result"
    }
   ],
   "source": [
    "s = \"Olá\"\n",
    "s"
   ]
  },
  {
   "cell_type": "code",
   "execution_count": 19,
   "id": "21824e68-b90c-43c5-9c04-abcba5f0747d",
   "metadata": {},
   "outputs": [
    {
     "data": {
      "text/plain": [
       "[1, 2, 5]"
      ]
     },
     "execution_count": 19,
     "metadata": {},
     "output_type": "execute_result"
    }
   ],
   "source": [
    "vet = [1, 2, 5]\n",
    "vet"
   ]
  },
  {
   "cell_type": "code",
   "execution_count": 20,
   "id": "b84a0e33-c898-47d0-8174-563f69874f72",
   "metadata": {},
   "outputs": [
    {
     "data": {
      "text/plain": [
       "[1, 2, 5, 6.7]"
      ]
     },
     "execution_count": 20,
     "metadata": {},
     "output_type": "execute_result"
    }
   ],
   "source": [
    "vet.append(6.7)\n",
    "vet"
   ]
  },
  {
   "cell_type": "code",
   "execution_count": 21,
   "id": "3ff4bc16-ce88-4f9d-986a-5ccbec73bdab",
   "metadata": {},
   "outputs": [
    {
     "data": {
      "text/plain": [
       "[1, 2, 5, 6.7, 'ola']"
      ]
     },
     "execution_count": 21,
     "metadata": {},
     "output_type": "execute_result"
    }
   ],
   "source": [
    "vet.append(\"ola\")\n",
    "vet"
   ]
  },
  {
   "cell_type": "code",
   "execution_count": 24,
   "id": "77dc354b-b598-4f11-91d4-16a8498c38b9",
   "metadata": {},
   "outputs": [
    {
     "name": "stdout",
     "output_type": "stream",
     "text": [
      "Olá 2\n"
     ]
    }
   ],
   "source": [
    "print(s, x)"
   ]
  },
  {
   "cell_type": "markdown",
   "id": "f2df7fb9-01c3-4962-b58b-9f2949c83642",
   "metadata": {},
   "source": [
    "# Operadores \n",
    "### Aritmeticos"
   ]
  },
  {
   "cell_type": "code",
   "execution_count": 25,
   "id": "bc83dcba-1836-4b3f-8c39-8937bd680ec9",
   "metadata": {},
   "outputs": [
    {
     "data": {
      "text/plain": [
       "5"
      ]
     },
     "execution_count": 25,
     "metadata": {},
     "output_type": "execute_result"
    }
   ],
   "source": [
    "2+3"
   ]
  },
  {
   "cell_type": "code",
   "execution_count": 26,
   "id": "e2fb1981-aad2-471f-85b4-2476ac28bcbb",
   "metadata": {},
   "outputs": [
    {
     "data": {
      "text/plain": [
       "45"
      ]
     },
     "execution_count": 26,
     "metadata": {},
     "output_type": "execute_result"
    }
   ],
   "source": [
    "5*9"
   ]
  },
  {
   "cell_type": "code",
   "execution_count": 27,
   "id": "def4c267-0735-465a-9ce1-7684d20c1349",
   "metadata": {},
   "outputs": [
    {
     "data": {
      "text/plain": [
       "81"
      ]
     },
     "execution_count": 27,
     "metadata": {},
     "output_type": "execute_result"
    }
   ],
   "source": [
    "9**2"
   ]
  },
  {
   "cell_type": "code",
   "execution_count": 28,
   "id": "35bb4766-81ea-4570-871e-90ced813971c",
   "metadata": {},
   "outputs": [
    {
     "data": {
      "text/plain": [
       "10715086071862673209484250490600018105614048117055336074437503883703510511249361224931983788156958581275946729175531468251871452856923140435984577574698574803934567774824230985421074605062371141877954182153046474983581941267398767559165543946077062914571196477686542167660429831652624386837205668069376"
      ]
     },
     "execution_count": 28,
     "metadata": {},
     "output_type": "execute_result"
    }
   ],
   "source": [
    "2**1000"
   ]
  },
  {
   "cell_type": "code",
   "execution_count": 29,
   "id": "b39d3ff3-6bc6-4cce-b7f4-917ad95d4b82",
   "metadata": {},
   "outputs": [
    {
     "data": {
      "text/plain": [
       "2"
      ]
     },
     "execution_count": 29,
     "metadata": {},
     "output_type": "execute_result"
    }
   ],
   "source": [
    "5%3"
   ]
  },
  {
   "cell_type": "code",
   "execution_count": 30,
   "id": "0d29a0b9-7092-47f3-90b2-20f49a539b1b",
   "metadata": {},
   "outputs": [
    {
     "data": {
      "text/plain": [
       "-2"
      ]
     },
     "execution_count": 30,
     "metadata": {},
     "output_type": "execute_result"
    }
   ],
   "source": [
    "a = 2\n",
    "-a"
   ]
  },
  {
   "cell_type": "markdown",
   "id": "420e5d9b-b2fd-4312-9573-26f9158c07b0",
   "metadata": {},
   "source": [
    "## Atribuição"
   ]
  },
  {
   "cell_type": "code",
   "execution_count": 31,
   "id": "8ad42afa-b3c6-4981-8584-3f79a45cbdd3",
   "metadata": {},
   "outputs": [
    {
     "data": {
      "text/plain": [
       "2"
      ]
     },
     "execution_count": 31,
     "metadata": {},
     "output_type": "execute_result"
    }
   ],
   "source": [
    "a = 2\n",
    "2"
   ]
  },
  {
   "cell_type": "code",
   "execution_count": 33,
   "id": "b10cf1ca-8bfb-4b69-9d26-c5ee96c54c45",
   "metadata": {},
   "outputs": [
    {
     "data": {
      "text/plain": [
       "5"
      ]
     },
     "execution_count": 33,
     "metadata": {},
     "output_type": "execute_result"
    }
   ],
   "source": [
    "a = 2\n",
    "a += 3\n",
    "a"
   ]
  },
  {
   "cell_type": "code",
   "execution_count": 34,
   "id": "98ec90db-2dda-4d14-9fea-cce054002eb5",
   "metadata": {},
   "outputs": [
    {
     "data": {
      "text/plain": [
       "5"
      ]
     },
     "execution_count": 34,
     "metadata": {},
     "output_type": "execute_result"
    }
   ],
   "source": [
    "a = 2\n",
    "a = a + 3\n",
    "a"
   ]
  },
  {
   "cell_type": "code",
   "execution_count": 35,
   "id": "2aedf903-24d0-4569-b183-b650e5bd0a14",
   "metadata": {},
   "outputs": [
    {
     "data": {
      "text/plain": [
       "64.0"
      ]
     },
     "execution_count": 35,
     "metadata": {},
     "output_type": "execute_result"
    }
   ],
   "source": [
    "a -= 3\n",
    "a *= 4\n",
    "a /= 2\n",
    "a **= 3\n",
    "a"
   ]
  },
  {
   "cell_type": "markdown",
   "id": "90e21927-8184-4033-bd66-3fe1e9be5bf6",
   "metadata": {},
   "source": [
    "## Comparação"
   ]
  },
  {
   "cell_type": "code",
   "execution_count": 36,
   "id": "9737b6d0-3e86-44c1-b6d5-a2fceec9699e",
   "metadata": {},
   "outputs": [
    {
     "data": {
      "text/plain": [
       "False"
      ]
     },
     "execution_count": 36,
     "metadata": {},
     "output_type": "execute_result"
    }
   ],
   "source": [
    "a = 2\n",
    "b = 3\n",
    "a == b"
   ]
  },
  {
   "cell_type": "code",
   "execution_count": 37,
   "id": "8eedda8a-68b7-4a31-ac1e-cce2585c04db",
   "metadata": {},
   "outputs": [
    {
     "data": {
      "text/plain": [
       "True"
      ]
     },
     "execution_count": 37,
     "metadata": {},
     "output_type": "execute_result"
    }
   ],
   "source": [
    "a != b"
   ]
  },
  {
   "cell_type": "code",
   "execution_count": 38,
   "id": "71c41700-1501-492a-bc97-e99c6a76c261",
   "metadata": {},
   "outputs": [
    {
     "data": {
      "text/plain": [
       "True"
      ]
     },
     "execution_count": 38,
     "metadata": {},
     "output_type": "execute_result"
    }
   ],
   "source": [
    "a < b"
   ]
  },
  {
   "cell_type": "code",
   "execution_count": 39,
   "id": "afda22d2-c971-402a-a7db-27f5c47db792",
   "metadata": {},
   "outputs": [
    {
     "data": {
      "text/plain": [
       "True"
      ]
     },
     "execution_count": 39,
     "metadata": {},
     "output_type": "execute_result"
    }
   ],
   "source": [
    "a <= b"
   ]
  },
  {
   "cell_type": "code",
   "execution_count": 40,
   "id": "40cae9ff-b0e4-4856-a555-cb3aebfe43ba",
   "metadata": {},
   "outputs": [
    {
     "data": {
      "text/plain": [
       "False"
      ]
     },
     "execution_count": 40,
     "metadata": {},
     "output_type": "execute_result"
    }
   ],
   "source": [
    "a > b"
   ]
  },
  {
   "cell_type": "code",
   "execution_count": 41,
   "id": "7905fe35-cf24-4ed9-b994-ec4c69e801ef",
   "metadata": {},
   "outputs": [
    {
     "data": {
      "text/plain": [
       "False"
      ]
     },
     "execution_count": 41,
     "metadata": {},
     "output_type": "execute_result"
    }
   ],
   "source": [
    "a >= b"
   ]
  },
  {
   "cell_type": "markdown",
   "id": "4569313b-af83-4ce9-8128-6d7bddea2e8d",
   "metadata": {},
   "source": [
    "## Identidade "
   ]
  },
  {
   "cell_type": "code",
   "execution_count": 43,
   "id": "92f43aa8-f04c-47d3-9ef3-483447bb1dcd",
   "metadata": {},
   "outputs": [
    {
     "data": {
      "text/plain": [
       "False"
      ]
     },
     "execution_count": 43,
     "metadata": {},
     "output_type": "execute_result"
    }
   ],
   "source": [
    "a is b"
   ]
  },
  {
   "cell_type": "code",
   "execution_count": 44,
   "id": "38a4c304-4737-4e29-be21-350a7f98e75d",
   "metadata": {},
   "outputs": [
    {
     "data": {
      "text/plain": [
       "True"
      ]
     },
     "execution_count": 44,
     "metadata": {},
     "output_type": "execute_result"
    }
   ],
   "source": [
    "a is not b"
   ]
  },
  {
   "cell_type": "code",
   "execution_count": 47,
   "id": "a49cec71-5308-47d4-bd66-65c273742ba9",
   "metadata": {},
   "outputs": [
    {
     "data": {
      "text/plain": [
       "True"
      ]
     },
     "execution_count": 47,
     "metadata": {},
     "output_type": "execute_result"
    }
   ],
   "source": [
    "a = 2\n",
    "vet = [1, 2, 3]\n",
    "a in vet"
   ]
  },
  {
   "cell_type": "code",
   "execution_count": 48,
   "id": "14a12a66-ea4d-4a69-b4da-56c17f6d1e53",
   "metadata": {},
   "outputs": [
    {
     "data": {
      "text/plain": [
       "False"
      ]
     },
     "execution_count": 48,
     "metadata": {},
     "output_type": "execute_result"
    }
   ],
   "source": [
    "a = 2\n",
    "vet = [1, 2, 3]\n",
    "a not in vet"
   ]
  },
  {
   "cell_type": "code",
   "execution_count": 50,
   "id": "0cb78a91-1262-4b3f-97dc-3997efb78b98",
   "metadata": {},
   "outputs": [
    {
     "name": "stdout",
     "output_type": "stream",
     "text": [
      "<class 'int'>\n",
      "<class 'float'>\n"
     ]
    }
   ],
   "source": [
    "x = 2\n",
    "print(type(x))\n",
    "x = 2.4\n",
    "print(type(x))"
   ]
  },
  {
   "cell_type": "markdown",
   "id": "9602dd64-1b4a-4fac-b9cb-e30a55be4ef8",
   "metadata": {},
   "source": [
    "# IMC"
   ]
  },
  {
   "cell_type": "code",
   "execution_count": 52,
   "id": "125c0bd0-cc5b-4a17-abc3-f5823e409704",
   "metadata": {},
   "outputs": [
    {
     "data": {
      "text/plain": [
       "21.97735111870822"
      ]
     },
     "execution_count": 52,
     "metadata": {},
     "output_type": "execute_result"
    }
   ],
   "source": [
    "peso = 72\n",
    "altura = 1.81\n",
    "imc = peso/(altura**2)\n",
    "imc"
   ]
  },
  {
   "cell_type": "code",
   "execution_count": 53,
   "id": "c0540def-959f-4d6c-ba2d-b11b7896cc39",
   "metadata": {},
   "outputs": [
    {
     "data": {
      "text/plain": [
       "21.97735111870822"
      ]
     },
     "execution_count": 53,
     "metadata": {},
     "output_type": "execute_result"
    }
   ],
   "source": [
    "peso = 72\n",
    "altura = 1.81\n",
    "imc = peso\n",
    "imc /= (altura*altura)\n",
    "imc"
   ]
  },
  {
   "cell_type": "code",
   "execution_count": 54,
   "id": "2868bae2-fb09-4fe7-a209-053ceb4a7e95",
   "metadata": {},
   "outputs": [
    {
     "data": {
      "text/plain": [
       "True"
      ]
     },
     "execution_count": 54,
     "metadata": {},
     "output_type": "execute_result"
    }
   ],
   "source": [
    "imc<=24.9"
   ]
  },
  {
   "cell_type": "code",
   "execution_count": 58,
   "id": "37182fcb-0ab5-4058-9b49-94406c8beb4a",
   "metadata": {},
   "outputs": [
    {
     "name": "stdout",
     "output_type": "stream",
     "text": [
      "Peso ideal, imc =  21.97735111870822\n"
     ]
    }
   ],
   "source": [
    "peso = 72\n",
    "altura = 1.81\n",
    "imc = peso/(altura**2)\n",
    "if imc<=24.9:\n",
    "    print(\"Peso ideal, imc = \",imc)\n",
    "else:\n",
    "    print(\"Acima do Peso, imc = \",imc)"
   ]
  },
  {
   "cell_type": "code",
   "execution_count": 60,
   "id": "993b59fd-49ac-4c1b-81ba-7abdbea98168",
   "metadata": {},
   "outputs": [
    {
     "name": "stdin",
     "output_type": "stream",
     "text": [
      "Digite seu peso:  72\n",
      "Digite sua altura:  1.81\n"
     ]
    },
    {
     "name": "stdout",
     "output_type": "stream",
     "text": [
      "Seu IMC é normal.\n"
     ]
    }
   ],
   "source": [
    "peso = float(input(\"Digite seu peso: \"))\n",
    "altura = float(input(\"Digite sua altura: \"))\n",
    "\n",
    "imc = peso / (altura**2)\n",
    "\n",
    "if imc < 18.5:\n",
    "    print(\"Seu IMC é baixo.\")\n",
    "elif imc >= 18.5 and imc <= 24.9:\n",
    "    print(\"Seu IMC é normal.\")\n",
    "elif imc >= 25 and imc <= 29.9:\n",
    "    print(\"Seu IMC é sobrepeso.\")\n",
    "elif imc >= 30 and imc <= 34.9:\n",
    "    print(\"Seu IMC é obesidade 1.\")\n",
    "elif imc >= 35 and imc <= 39.9:\n",
    "    print(\"Seu IMC é obesidade 2.\")\n",
    "elif imc > 40:\n",
    "    print(\"Seu IMC é obesidade.\")\n",
    "else:\n",
    "    print(\"data inserida errada\")\n"
   ]
  },
  {
   "cell_type": "code",
   "execution_count": null,
   "id": "4129fb81-2f7e-4f04-8e7b-cff6a4ef17eb",
   "metadata": {},
   "outputs": [],
   "source": []
  }
 ],
 "metadata": {
  "kernelspec": {
   "display_name": "Python 3 (ipykernel)",
   "language": "python",
   "name": "python3"
  },
  "language_info": {
   "codemirror_mode": {
    "name": "ipython",
    "version": 3
   },
   "file_extension": ".py",
   "mimetype": "text/x-python",
   "name": "python",
   "nbconvert_exporter": "python",
   "pygments_lexer": "ipython3",
   "version": "3.9.12"
  }
 },
 "nbformat": 4,
 "nbformat_minor": 5
}
